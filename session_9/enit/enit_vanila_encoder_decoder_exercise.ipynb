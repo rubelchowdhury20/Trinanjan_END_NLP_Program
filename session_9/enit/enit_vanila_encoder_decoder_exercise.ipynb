{
 "cells": [
  {
   "cell_type": "markdown",
   "metadata": {},
   "source": [
    "# Todo\n",
    "- [x] add joblib while creating example --> not working as expected\n",
    "- [x] the vocab object is giving wrong shape --> problem was Field was not using correct tokenization function\n",
    "- [ ] understand ignore padding ce loss \n",
    "- [ ] understand torch.bmm in decoder"
   ]
  },
  {
   "cell_type": "markdown",
   "metadata": {},
   "source": [
    "# Neural Machine Translation by Jointly Learning to Align and Translate\n",
    "\n",
    "In this third notebook on sequence-to-sequence models using PyTorch and TorchText, we'll be implementing the model from [Neural Machine Translation by Jointly Learning to Align and Translate](https://arxiv.org/abs/1409.0473) to building an language to language transformation model using the collection of copyright free books aligned by Andras Farkas, which are available from http://www.farkastranslations.com/bilingual_books.php\n",
    "\n",
    "## Introduction\n",
    "\n",
    "Here is the general encoder-decoder model:\n",
    "\n",
    "![](https://github.com/bentrevett/pytorch-seq2seq/blob/master/assets/seq2seq1.png?raw=1)\n",
    "\n",
    "In the previous model, our architecture was set-up in a way to reduce \"information compression\" by explicitly passing the context vector, $z$, to the decoder at every time-step and by passing both the context vector and embedded input word, $d(y_t)$, along with the hidden state, $s_t$, to the linear layer, $f$, to make a prediction.\n",
    "\n",
    "![](https://github.com/bentrevett/pytorch-seq2seq/blob/master/assets/seq2seq7.png?raw=1)\n",
    "\n",
    "Even though we have reduced some of this compression, our context vector still needs to contain all of the information about the source sentence. The model implemented in this notebook avoids this compression by allowing the decoder to look at the entire source sentence (via its hidden states) at each decoding step! How does it do this? It uses *attention*. \n",
    "\n",
    "Attention works by first, calculating an attention vector, $a$, that is the length of the source sentence. The attention vector has the property that each element is between 0 and 1, and the entire vector sums to 1. We then calculate a weighted sum of our source sentence hidden states, $H$, to get a weighted source vector, $w$. \n",
    "\n",
    "$$w = \\sum_{i}a_ih_i$$\n",
    "\n",
    "We calculate a new weighted source vector every time-step when decoding, using it as input to our decoder RNN as well as the linear layer to make a prediction. We'll explain how to do all of this during the session.\n"
   ]
  },
  {
   "cell_type": "markdown",
   "metadata": {},
   "source": [
    "## Import Statements"
   ]
  },
  {
   "cell_type": "code",
   "execution_count": 1,
   "metadata": {
    "ExecuteTime": {
     "end_time": "2021-01-26T10:55:00.753871Z",
     "start_time": "2021-01-26T10:55:00.389229Z"
    }
   },
   "outputs": [],
   "source": [
    "import torch\n",
    "import torch.nn as nn\n",
    "import torch.optim as optim\n",
    "import torch.nn.functional as F\n",
    "\n",
    "from torchtext.datasets import Multi30k\n",
    "from torchtext import data\n",
    "from torchtext.data import Field, BucketIterator\n",
    "\n",
    "import spacy\n",
    "import numpy as np\n",
    "\n",
    "import random\n",
    "import math\n",
    "import time\n",
    "import json\n",
    "from tqdm import tqdm as tqdm"
   ]
  },
  {
   "cell_type": "markdown",
   "metadata": {},
   "source": [
    "Set the random seeds for reproducability."
   ]
  },
  {
   "cell_type": "code",
   "execution_count": 2,
   "metadata": {
    "ExecuteTime": {
     "end_time": "2021-01-26T10:55:01.762412Z",
     "start_time": "2021-01-26T10:55:01.756843Z"
    }
   },
   "outputs": [],
   "source": [
    "SEED = 1234\n",
    "\n",
    "random.seed(SEED)\n",
    "np.random.seed(SEED)\n",
    "torch.manual_seed(SEED)\n",
    "torch.cuda.manual_seed(SEED)\n",
    "torch.backends.cudnn.deterministic = True"
   ]
  },
  {
   "cell_type": "markdown",
   "metadata": {},
   "source": [
    "loading english and italian spacy models"
   ]
  },
  {
   "cell_type": "code",
   "execution_count": 3,
   "metadata": {
    "ExecuteTime": {
     "end_time": "2021-01-26T10:55:04.902544Z",
     "start_time": "2021-01-26T10:55:03.911019Z"
    }
   },
   "outputs": [],
   "source": [
    "# spacy english and italian\n",
    "spacy_it = spacy.load(\"it_core_news_sm\")\n",
    "spacy_en = spacy.load(\"en_core_web_sm\")"
   ]
  },
  {
   "cell_type": "markdown",
   "metadata": {},
   "source": [
    "## Previewing the Dataset\n",
    "\n",
    "Link to the dataset\n",
    "\n",
    "http://opus.nlpl.eu/Books.php\n",
    "\n",
    "http://opus.nlpl.eu/"
   ]
  },
  {
   "cell_type": "code",
   "execution_count": 4,
   "metadata": {
    "ExecuteTime": {
     "end_time": "2021-01-26T10:55:06.461390Z",
     "start_time": "2021-01-26T10:55:06.457027Z"
    }
   },
   "outputs": [],
   "source": [
    "# using translate-toolkit to use tmx file\n",
    "# !pip3 install translate-toolkit"
   ]
  },
  {
   "cell_type": "code",
   "execution_count": 5,
   "metadata": {
    "ExecuteTime": {
     "end_time": "2021-01-26T10:55:20.107740Z",
     "start_time": "2021-01-26T10:55:19.899429Z"
    }
   },
   "outputs": [],
   "source": [
    "from translate.storage.tmx import tmxfile\n",
    "with open(\"./../datasets/Multilingual Datasets for Chatbot Training/en-it.tmx\", 'rb') as fin:\n",
    "    tmx_file = tmxfile(fin, 'en', 'it')"
   ]
  },
  {
   "cell_type": "code",
   "execution_count": 6,
   "metadata": {
    "ExecuteTime": {
     "end_time": "2021-01-26T10:55:21.080557Z",
     "start_time": "2021-01-26T10:55:20.627932Z"
    }
   },
   "outputs": [
    {
     "name": "stdout",
     "output_type": "stream",
     "text": [
      "checking the data\n",
      "length is 32035 , one example is ['There was no possibility of taking a walk that day.', 'I. In quel giorno era impossibile passeggiare.']\n"
     ]
    }
   ],
   "source": [
    "language_pair_list = []\n",
    "for node in tmx_file.unit_iter():\n",
    "    language_pair_list.append([node.source, node.target])\n",
    "print('checking the data')\n",
    "print('length is {} , one example is {}'.format(len(language_pair_list),language_pair_list[4]))"
   ]
  },
  {
   "cell_type": "markdown",
   "metadata": {},
   "source": [
    "## Defining the fields"
   ]
  },
  {
   "cell_type": "markdown",
   "metadata": {},
   "source": [
    "Question and Answer are standard Field object, where we have decided to use the spaCy tokenizer and convert all the text to lower‐ case."
   ]
  },
  {
   "cell_type": "code",
   "execution_count": 7,
   "metadata": {
    "ExecuteTime": {
     "end_time": "2021-01-26T10:55:23.231109Z",
     "start_time": "2021-01-26T10:55:23.224015Z"
    }
   },
   "outputs": [],
   "source": [
    "def tokenize_it(text):\n",
    "    \"\"\"\n",
    "    Tokenizes German text from a string into a list of strings (tokens) and reverses it\n",
    "    \"\"\"\n",
    "    return [tok.text for tok in spacy_it.tokenizer(text)]\n",
    "\n",
    "def tokenize_en(text):\n",
    "    \"\"\"\n",
    "    Tokenizes English text from a string into a list of strings (tokens)\n",
    "    \"\"\"\n",
    "    return [tok.text for tok in spacy_en.tokenizer(text)]\n",
    "\n",
    "English = Field(sequential = True,\n",
    "                      tokenize = tokenize_en,\n",
    "                      include_lengths=True,\n",
    "                      init_token = '<sos>',\n",
    "                      eos_token = '<eos>')\n",
    "\n",
    "Italian = Field(sequential = True,\n",
    "                    tokenize =tokenize_it,\n",
    "                    include_lengths=True,\n",
    "                    init_token = '<sos>',\n",
    "                    eos_token = '<eos>')"
   ]
  },
  {
   "cell_type": "markdown",
   "metadata": {},
   "source": [
    "Having defined those fields, we now need to produce a list that maps them onto the list of rows that are in the list quescontext_ans_pairs"
   ]
  },
  {
   "cell_type": "code",
   "execution_count": 8,
   "metadata": {
    "ExecuteTime": {
     "end_time": "2021-01-26T10:55:24.632432Z",
     "start_time": "2021-01-26T10:55:24.626204Z"
    }
   },
   "outputs": [],
   "source": [
    "fields = [('english', English),('italian',Italian)]"
   ]
  },
  {
   "cell_type": "code",
   "execution_count": 9,
   "metadata": {
    "ExecuteTime": {
     "end_time": "2021-01-26T10:55:26.872591Z",
     "start_time": "2021-01-26T10:55:26.867412Z"
    }
   },
   "outputs": [],
   "source": [
    "# from joblib import Parallel, delayed\n",
    "# example = Parallel(n_jobs=1000)(delayed(data.Example.fromlist)([language_pair_list[i][0],language_pair_list[i][1]], fields) for i in tqdm(range(len(language_pair_list))))"
   ]
  },
  {
   "cell_type": "code",
   "execution_count": 10,
   "metadata": {
    "ExecuteTime": {
     "end_time": "2021-01-26T10:55:36.509357Z",
     "start_time": "2021-01-26T10:55:28.085071Z"
    }
   },
   "outputs": [
    {
     "name": "stderr",
     "output_type": "stream",
     "text": [
      "100%|██████████| 32035/32035 [00:08<00:00, 3807.62it/s]\n"
     ]
    }
   ],
   "source": [
    "example = [data.Example.fromlist([language_pair_list[i][0],language_pair_list[i][1]], fields) for i in tqdm(range(len(language_pair_list)))] "
   ]
  },
  {
   "cell_type": "code",
   "execution_count": 11,
   "metadata": {
    "ExecuteTime": {
     "end_time": "2021-01-26T10:55:37.492959Z",
     "start_time": "2021-01-26T10:55:37.079707Z"
    }
   },
   "outputs": [],
   "source": [
    "import pickle\n",
    "with open('./enit_data_example.pkl', 'wb') as f:\n",
    "    pickle.dump(example,f)"
   ]
  },
  {
   "cell_type": "code",
   "execution_count": null,
   "metadata": {
    "ExecuteTime": {
     "end_time": "2021-01-26T10:53:31.065277Z",
     "start_time": "2021-01-26T10:53:31.063655Z"
    }
   },
   "outputs": [],
   "source": [
    "# import pickle\n",
    "# with open('./enit_data_example.pkl', 'rb') as f:\n",
    "#     example = pickle.load(f)"
   ]
  },
  {
   "cell_type": "code",
   "execution_count": 12,
   "metadata": {
    "ExecuteTime": {
     "end_time": "2021-01-26T10:55:37.926882Z",
     "start_time": "2021-01-26T10:55:37.918707Z"
    }
   },
   "outputs": [
    {
     "data": {
      "text/plain": [
       "(['\"',\n",
       "  'Is',\n",
       "  'it',\n",
       "  'all',\n",
       "  'over',\n",
       "  '?',\n",
       "  '\"',\n",
       "  'she',\n",
       "  'asked',\n",
       "  ',',\n",
       "  'looking',\n",
       "  'down',\n",
       "  'at',\n",
       "  'my',\n",
       "  'face',\n",
       "  '.',\n",
       "  '\"',\n",
       "  'Have',\n",
       "  'you',\n",
       "  'cried',\n",
       "  'your',\n",
       "  'grief',\n",
       "  'away',\n",
       "  '?',\n",
       "  '\"'],\n",
       " ['—',\n",
       "  'Vi',\n",
       "  'siete',\n",
       "  'consolata',\n",
       "  '?',\n",
       "  '—',\n",
       "  'mi',\n",
       "  'domandò',\n",
       "  'guardandomi',\n",
       "  'in',\n",
       "  'faccia',\n",
       "  '.',\n",
       "  '—',\n",
       "  'Avete',\n",
       "  'sfogato',\n",
       "  'il',\n",
       "  'vostro',\n",
       "  'cruccio',\n",
       "  '?'])"
      ]
     },
     "execution_count": 12,
     "metadata": {},
     "output_type": "execute_result"
    }
   ],
   "source": [
    "index = random.randint(0,200)\n",
    "index = 989\n",
    "example[index].english,example[index].italian"
   ]
  },
  {
   "cell_type": "markdown",
   "metadata": {},
   "source": [
    "## Creating dataset"
   ]
  },
  {
   "cell_type": "code",
   "execution_count": 13,
   "metadata": {
    "ExecuteTime": {
     "end_time": "2021-01-26T10:55:38.309809Z",
     "start_time": "2021-01-26T10:55:38.308311Z"
    }
   },
   "outputs": [],
   "source": [
    "# creating dataset\n",
    "LangDataset = data.Dataset(example, fields)"
   ]
  },
  {
   "cell_type": "markdown",
   "metadata": {},
   "source": [
    "Finally, we can split into training, testing, and validation sets by using the split() method:"
   ]
  },
  {
   "cell_type": "code",
   "execution_count": 14,
   "metadata": {
    "ExecuteTime": {
     "end_time": "2021-01-26T10:55:38.698176Z",
     "start_time": "2021-01-26T10:55:38.683722Z"
    }
   },
   "outputs": [],
   "source": [
    "(train, valid, test) = LangDataset.split(split_ratio=[0.70, 0.15, 0.15], random_state=random.seed(SEED))"
   ]
  },
  {
   "cell_type": "code",
   "execution_count": 15,
   "metadata": {
    "ExecuteTime": {
     "end_time": "2021-01-26T10:55:39.091749Z",
     "start_time": "2021-01-26T10:55:39.088872Z"
    }
   },
   "outputs": [
    {
     "data": {
      "text/plain": [
       "(22424, 4806, 4805)"
      ]
     },
     "execution_count": 15,
     "metadata": {},
     "output_type": "execute_result"
    }
   ],
   "source": [
    "(len(train), len(valid), len(test))"
   ]
  },
  {
   "cell_type": "markdown",
   "metadata": {},
   "source": [
    "An example from the dataset:"
   ]
  },
  {
   "cell_type": "code",
   "execution_count": 16,
   "metadata": {
    "ExecuteTime": {
     "end_time": "2021-01-26T10:55:40.491789Z",
     "start_time": "2021-01-26T10:55:40.487327Z"
    }
   },
   "outputs": [
    {
     "data": {
      "text/plain": [
       "{'english': ['\"',\n",
       "  'You',\n",
       "  'never',\n",
       "  'felt',\n",
       "  'jealousy',\n",
       "  ',',\n",
       "  'did',\n",
       "  'you',\n",
       "  ',',\n",
       "  'Miss',\n",
       "  'Eyre',\n",
       "  '?'],\n",
       " 'italian': ['\"',\n",
       "  'Non',\n",
       "  'avete',\n",
       "  'mai',\n",
       "  'provata',\n",
       "  'la',\n",
       "  'gelosia',\n",
       "  ',',\n",
       "  'non',\n",
       "  'è',\n",
       "  'vero',\n",
       "  ',',\n",
       "  'signorina',\n",
       "  'Eyre',\n",
       "  '?']}"
      ]
     },
     "execution_count": 16,
     "metadata": {},
     "output_type": "execute_result"
    }
   ],
   "source": [
    "index = random.randint(0,1000)\n",
    "vars(train.examples[index])"
   ]
  },
  {
   "cell_type": "markdown",
   "metadata": {},
   "source": [
    "## Data Augmentation\n",
    "copied from the repository of Woncoh1 https://github.com/woncoh1/END/blob/main/Assignment_Session_7_Sentiment_Analysis_using_LSTM_RNN.ipynb"
   ]
  },
  {
   "cell_type": "code",
   "execution_count": 17,
   "metadata": {
    "ExecuteTime": {
     "end_time": "2021-01-26T10:55:42.767985Z",
     "start_time": "2021-01-26T10:55:41.852224Z"
    }
   },
   "outputs": [
    {
     "name": "stderr",
     "output_type": "stream",
     "text": [
      "[nltk_data] Downloading package punkt to /home/deep/nltk_data...\n",
      "[nltk_data]   Package punkt is already up-to-date!\n"
     ]
    }
   ],
   "source": [
    "# import libraries and prepare sentence text\n",
    "import random\n",
    "# for back translation\n",
    "import google_trans_new\n",
    "from google_trans_new import google_translator\n",
    "# for word tokenization\n",
    "import nltk\n",
    "nltk.download('punkt')\n",
    "from nltk.tokenize import word_tokenize"
   ]
  },
  {
   "cell_type": "markdown",
   "metadata": {},
   "source": [
    "#### Back Translation"
   ]
  },
  {
   "cell_type": "code",
   "execution_count": 18,
   "metadata": {
    "ExecuteTime": {
     "end_time": "2021-01-26T10:55:44.365444Z",
     "start_time": "2021-01-26T10:55:44.359765Z"
    }
   },
   "outputs": [],
   "source": [
    "# translate a sentence to a random language,\n",
    "# and translate back to original language\n",
    "\n",
    "def back_translate(sentence, p=0.1, lang=\"en\"):\n",
    "    sentence = [str(i) for i in sentence]\n",
    "    # do nothing with probability of 1-p\n",
    "    if random.uniform(0,1) > p:\n",
    "        return sentence\n",
    "    \n",
    "    # combine tokenized sentence into one string\n",
    "    sentence = \" \".join(sentence)\n",
    "    \n",
    "    # instantiate translator\n",
    "    translator = google_translator()\n",
    "    \n",
    "    # choose a target language\n",
    "    available_langs = list(google_trans_new.LANGUAGES.keys())\n",
    "    trans_lang = random.choice(available_langs)\n",
    "    \n",
    "    # translate to the target language\n",
    "    translations = translator.translate(sentence, lang_tgt=trans_lang)\n",
    "    \n",
    "    # translate back to original language\n",
    "    translations_en_random = translator.translate(translations, lang_src=trans_lang, lang_tgt=lang)\n",
    "    \n",
    "    # select only one translation\n",
    "    if len(translations_en_random) > 1:\n",
    "        translations_en_random = translations_en_random[0]\n",
    "        \n",
    "    return word_tokenize(translations_en_random)"
   ]
  },
  {
   "cell_type": "markdown",
   "metadata": {},
   "source": [
    "#### Random Deletion"
   ]
  },
  {
   "cell_type": "code",
   "execution_count": 19,
   "metadata": {
    "ExecuteTime": {
     "end_time": "2021-01-26T10:55:45.555468Z",
     "start_time": "2021-01-26T10:55:45.546419Z"
    }
   },
   "outputs": [],
   "source": [
    "# randomly delete words from a sentence with a given probability\n",
    "\n",
    "def random_deletion(sentence, p=0.5): \n",
    "    # return if single word\n",
    "    if len(sentence) == 1: \n",
    "        return sentence\n",
    "    # delete words\n",
    "    remaining = list(filter(lambda x: random.uniform(0,1) > p, sentence)) \n",
    "    # if nothing left, sample a random word\n",
    "    if len(remaining) == 0: \n",
    "        return [random.choice(sentence)] \n",
    "    else:\n",
    "        return remaining"
   ]
  },
  {
   "cell_type": "markdown",
   "metadata": {},
   "source": [
    "#### Random Swap"
   ]
  },
  {
   "cell_type": "code",
   "execution_count": 20,
   "metadata": {
    "ExecuteTime": {
     "end_time": "2021-01-26T10:55:46.940353Z",
     "start_time": "2021-01-26T10:55:46.929916Z"
    }
   },
   "outputs": [],
   "source": [
    "# randomly swap a pair of words in a sentence for a given # of times\n",
    "\n",
    "def random_swap(sentence, n=5): \n",
    "    if len(sentence) < 2:\n",
    "        return sentence\n",
    "    length = range(len(sentence)) \n",
    "    for _ in range(n):\n",
    "        idx1, idx2 = random.sample(length, 2)\n",
    "        sentence[idx1], sentence[idx2] = sentence[idx2], sentence[idx1] \n",
    "    return sentence"
   ]
  },
  {
   "cell_type": "code",
   "execution_count": 21,
   "metadata": {
    "ExecuteTime": {
     "end_time": "2021-01-26T10:55:48.002694Z",
     "start_time": "2021-01-26T10:55:47.997656Z"
    }
   },
   "outputs": [],
   "source": [
    "# back_translate(train.examples[0].english, p=0.01, lang=\"en\")"
   ]
  },
  {
   "cell_type": "markdown",
   "metadata": {},
   "source": [
    "#### Carry Out Data Augmentation"
   ]
  },
  {
   "cell_type": "code",
   "execution_count": 22,
   "metadata": {
    "ExecuteTime": {
     "end_time": "2021-01-26T11:00:54.622791Z",
     "start_time": "2021-01-26T10:55:50.084794Z"
    }
   },
   "outputs": [
    {
     "name": "stderr",
     "output_type": "stream",
     "text": [
      "22424it [05:04, 73.64it/s] \n"
     ]
    }
   ],
   "source": [
    "for idx, example in tqdm(enumerate(train.examples)):\n",
    "    example.english = back_translate(example.english, p=0.01, lang=\"en\")\n",
    "    example.english = random_deletion(example.english, p=0.1)\n",
    "    example.english = random_swap(example.english, n=1)\n",
    "    example.italian = back_translate(example.italian, p=0.01, lang=\"it\")\n",
    "    example.italian = random_deletion(example.italian, p=0.1)\n",
    "    example.italian = random_swap(example.italian, n=1)"
   ]
  },
  {
   "cell_type": "markdown",
   "metadata": {},
   "source": [
    "## Building Vocabulary"
   ]
  },
  {
   "cell_type": "code",
   "execution_count": 23,
   "metadata": {
    "ExecuteTime": {
     "end_time": "2021-01-26T11:03:54.359843Z",
     "start_time": "2021-01-26T11:03:54.354106Z"
    }
   },
   "outputs": [],
   "source": [
    "import torchtext.vocab as vocab"
   ]
  },
  {
   "cell_type": "code",
   "execution_count": 24,
   "metadata": {
    "ExecuteTime": {
     "end_time": "2021-01-26T11:03:56.693663Z",
     "start_time": "2021-01-26T11:03:54.866279Z"
    }
   },
   "outputs": [],
   "source": [
    "english_embeddings = vocab.Vectors(name = './wiki.simple.vec')\n",
    "italian_embeddings = vocab.Vectors(name = './cc.it.300.vec')"
   ]
  },
  {
   "cell_type": "code",
   "execution_count": 25,
   "metadata": {
    "ExecuteTime": {
     "end_time": "2021-01-26T11:03:57.120842Z",
     "start_time": "2021-01-26T11:03:57.118535Z"
    }
   },
   "outputs": [
    {
     "data": {
      "text/plain": [
       "torch.Size([111051, 300])"
      ]
     },
     "execution_count": 25,
     "metadata": {},
     "output_type": "execute_result"
    }
   ],
   "source": [
    "english_embeddings.vectors.shape"
   ]
  },
  {
   "cell_type": "code",
   "execution_count": 26,
   "metadata": {
    "ExecuteTime": {
     "end_time": "2021-01-26T11:03:58.351259Z",
     "start_time": "2021-01-26T11:03:57.784846Z"
    }
   },
   "outputs": [],
   "source": [
    "MAX_VOCAB_SIZE = 20000\n",
    "''' Use max of 20000 frequently occuring words to create vocabulary. Use pretrained fasttext embedding. Embedding of words that exist in the data but not in the\n",
    "dictionary are set using normal distribution.\n",
    "'''\n",
    "English.build_vocab(train,\n",
    "                        max_size = MAX_VOCAB_SIZE,\n",
    "                        vectors = english_embeddings,\n",
    "                        min_freq = 2)\n",
    "Italian.build_vocab(train,\n",
    "                        max_size = MAX_VOCAB_SIZE,\n",
    "                        vectors = italian_embeddings,\n",
    "                        unk_init = torch.Tensor.normal_,\n",
    "                        min_freq = 2)"
   ]
  },
  {
   "cell_type": "code",
   "execution_count": 27,
   "metadata": {
    "ExecuteTime": {
     "end_time": "2021-01-26T11:03:58.707903Z",
     "start_time": "2021-01-26T11:03:58.705589Z"
    }
   },
   "outputs": [
    {
     "name": "stdout",
     "output_type": "stream",
     "text": [
      "torch.Size([12421, 300])\n",
      "torch.Size([17109, 300])\n"
     ]
    }
   ],
   "source": [
    "# get the vocab instances\n",
    "english_vocab = English.vocab\n",
    "italian_vocab = Italian.vocab\n",
    "\n",
    "english_embedding_vector = english_vocab.vectors\n",
    "italian_embedding_vector = italian_vocab.vectors\n",
    "print(english_embedding_vector.shape)\n",
    "print(italian_embedding_vector.shape)"
   ]
  },
  {
   "cell_type": "markdown",
   "metadata": {},
   "source": [
    "By default, torchtext will add two more special tokens, <unk> for unknown words and <pad>, a padding token that will be used to pad all our text to roughly the same size to help with efficient batching on the GPU."
   ]
  },
  {
   "cell_type": "code",
   "execution_count": 28,
   "metadata": {
    "ExecuteTime": {
     "end_time": "2021-01-26T11:03:59.824024Z",
     "start_time": "2021-01-26T11:03:59.814211Z"
    }
   },
   "outputs": [
    {
     "name": "stdout",
     "output_type": "stream",
     "text": [
      "Size of english vocab :  12421\n",
      "Size of italian vocab :  17109\n",
      "Top 10 words appeared in english: [(',', 38376), ('the', 21813), ('.', 18618), ('and', 17704), ('to', 14444), ('I', 11513), ('of', 11152), (\"'\", 10272), ('a', 9447), ('in', 6904)]\n",
      "Top 10 words appeared in italian: [(',', 36539), ('.', 19884), ('e', 14558), ('di', 13407), ('che', 11367), ('—', 10650), ('la', 8334), ('non', 7212), ('a', 7094), ('il', 6753)]\n"
     ]
    }
   ],
   "source": [
    "print('Size of english vocab : ', len(english_vocab))\n",
    "print('Size of italian vocab : ', len(italian_vocab))\n",
    "print('Top 10 words appeared in english:', list(english_vocab.freqs.most_common(10)))\n",
    "print(\"Top 10 words appeared in italian:\", list(italian_vocab.freqs.most_common(10)))"
   ]
  },
  {
   "cell_type": "markdown",
   "metadata": {},
   "source": [
    "## Create the iterators"
   ]
  },
  {
   "cell_type": "code",
   "execution_count": 29,
   "metadata": {
    "ExecuteTime": {
     "end_time": "2021-01-26T11:04:00.874424Z",
     "start_time": "2021-01-26T11:04:00.840677Z"
    }
   },
   "outputs": [],
   "source": [
    "device = torch.device(\"cuda\" if torch.cuda.is_available() else \"cpu\")"
   ]
  },
  {
   "cell_type": "code",
   "execution_count": 30,
   "metadata": {
    "ExecuteTime": {
     "end_time": "2021-01-26T11:04:01.323677Z",
     "start_time": "2021-01-26T11:04:01.321725Z"
    }
   },
   "outputs": [],
   "source": [
    "BATCH_SIZE = 8\n",
    "train_iterator, valid_iterator, test_iterator = data.BucketIterator.splits((train, valid, test),\n",
    "                                                            batch_size = BATCH_SIZE, \n",
    "                                                            sort_key = lambda x: len(x.english),\n",
    "                                                            sort_within_batch=True,\n",
    "                                                            device = device)"
   ]
  },
  {
   "cell_type": "markdown",
   "metadata": {},
   "source": [
    "Save the vocabulary for later use"
   ]
  },
  {
   "cell_type": "code",
   "execution_count": 31,
   "metadata": {
    "ExecuteTime": {
     "end_time": "2021-01-26T11:04:02.812973Z",
     "start_time": "2021-01-26T11:04:02.514456Z"
    }
   },
   "outputs": [],
   "source": [
    "import os, pickle\n",
    "with open('english_tokenizer.pkl', 'wb') as tokens: \n",
    "    pickle.dump(english_vocab.stoi, tokens)\n",
    "with open(\"italian_tokenizer.pkl\", \"wb\") as tokens:\n",
    "    pickle.dump(italian_vocab.stoi, tokens)"
   ]
  },
  {
   "cell_type": "markdown",
   "metadata": {},
   "source": [
    "## Building the Seq2Seq Model\n",
    "\n",
    "### Encoder\n",
    "\n",
    "The encoder is similar to the previous one, with the multi-layer LSTM swapped for a single-layer GRU. We also don't pass the dropout as an argument to the GRU as that dropout is used between each layer of a multi-layered RNN. As we only have a single layer, PyTorch will display a warning if we try and use pass a dropout value to it.\n",
    "\n",
    "Another thing to note about the GRU is that it only requires and returns a hidden state, there is no cell state like in the LSTM.\n",
    "\n",
    "$$\\begin{align*}\n",
    "h_t &= \\text{GRU}(e(x_t), h_{t-1})\\\\\n",
    "(h_t, c_t) &= \\text{LSTM}(e(x_t), h_{t-1}, c_{t-1})\\\\\n",
    "h_t &= \\text{RNN}(e(x_t), h_{t-1})\n",
    "\\end{align*}$$\n",
    "\n",
    "From the equations above, it looks like the RNN and the GRU are identical. Inside the GRU, however, is a number of *gating mechanisms* that control the information flow in to and out of the hidden state (similar to an LSTM). Again, for more info, check out [this](https://colah.github.io/posts/2015-08-Understanding-LSTMs/) excellent post. \n",
    "\n",
    "The rest of the encoder should be very familar from the last session, it takes in a sequence, $X = \\{x_1, x_2, ... , x_T\\}$, passes it through the embedding layer, recurrently calculates hidden states, $H = \\{h_1, h_2, ..., h_T\\}$, and returns a context vector (the final hidden state), $z=h_T$.\n",
    "\n",
    "$$h_t = \\text{EncoderGRU}(e(x_t), h_{t-1})$$\n",
    "\n",
    "This is identical to the encoder of the general seq2seq model, with all the \"magic\" happening inside the GRU (green).\n",
    "\n",
    "![](https://github.com/bentrevett/pytorch-seq2seq/blob/master/assets/seq2seq5.png?raw=1)"
   ]
  },
  {
   "cell_type": "code",
   "execution_count": 1,
   "metadata": {
    "ExecuteTime": {
     "end_time": "2021-01-26T16:25:47.264988Z",
     "start_time": "2021-01-26T16:25:47.232044Z"
    }
   },
   "outputs": [
    {
     "ename": "NameError",
     "evalue": "name 'nn' is not defined",
     "output_type": "error",
     "traceback": [
      "\u001b[0;31m---------------------------------------------------------------------------\u001b[0m",
      "\u001b[0;31mNameError\u001b[0m                                 Traceback (most recent call last)",
      "\u001b[0;32m<ipython-input-1-e9fdc45ffaeb>\u001b[0m in \u001b[0;36m<module>\u001b[0;34m\u001b[0m\n\u001b[0;32m----> 1\u001b[0;31m \u001b[0;32mclass\u001b[0m \u001b[0mEncoder\u001b[0m\u001b[0;34m(\u001b[0m\u001b[0mnn\u001b[0m\u001b[0;34m.\u001b[0m\u001b[0mModule\u001b[0m\u001b[0;34m)\u001b[0m\u001b[0;34m:\u001b[0m\u001b[0;34m\u001b[0m\u001b[0;34m\u001b[0m\u001b[0m\n\u001b[0m\u001b[1;32m      2\u001b[0m     '''\n\u001b[1;32m      3\u001b[0m     \u001b[0mencoder\u001b[0m \u001b[0mrakes\u001b[0m \u001b[0mainpuyt\u001b[0m \u001b[0;32mand\u001b[0m \u001b[0mruns\u001b[0m \u001b[0mit\u001b[0m \u001b[0mthrough\u001b[0m \u001b[0mthe\u001b[0m \u001b[0mlstm\u001b[0m\u001b[0;34m\u001b[0m\u001b[0;34m\u001b[0m\u001b[0m\n\u001b[1;32m      4\u001b[0m     \u001b[0;32mfor\u001b[0m \u001b[0mexample\u001b[0m \u001b[0mlet\u001b[0m\u001b[0;31m'\u001b[0m\u001b[0ms\u001b[0m \u001b[0msay\u001b[0m \u001b[0mthe\u001b[0m \u001b[0minput\u001b[0m \u001b[0msize\u001b[0m \u001b[0;32mis\u001b[0m \u001b[0;34m[\u001b[0m\u001b[0;36m30\u001b[0m\u001b[0;34m,\u001b[0m\u001b[0;36m128\u001b[0m\u001b[0;34m]\u001b[0m\u001b[0;34m,\u001b[0m\u001b[0;34m\u001b[0m\u001b[0;34m\u001b[0m\u001b[0m\n\u001b[1;32m      5\u001b[0m     \u001b[0mhere\u001b[0m \u001b[0;36m30\u001b[0m \u001b[0mmeans\u001b[0m \u001b[0;36m30\u001b[0m \u001b[0mwords\u001b[0m\u001b[0;34m/\u001b[0m\u001b[0monehot\u001b[0m \u001b[0;32mand\u001b[0m \u001b[0;36m128\u001b[0m \u001b[0mmeans\u001b[0m \u001b[0mbatch\u001b[0m \u001b[0msize\u001b[0m\u001b[0;34m\u001b[0m\u001b[0;34m\u001b[0m\u001b[0m\n",
      "\u001b[0;31mNameError\u001b[0m: name 'nn' is not defined"
     ]
    }
   ],
   "source": [
    "class Encoder(nn.Module):\n",
    "    '''\n",
    "    encoder rakes ainpuyt and runs it through the lstm\n",
    "    for example let's say the input size is [30,128],\n",
    "    here 30 means 30 words/onehot and 128 means batch size\n",
    "    \n",
    "    first pass it through the embedding dim of let's say 512\n",
    "    so the embedding output will bw [30,128,512]\n",
    "    then pass this to lstm which will give you output and hidden cell state\n",
    "    outputs wil have output at each time step so the first dim is sec_len\n",
    "    hidden and cell is the final state output so they don't have src_len in the output \n",
    "    let's say hidden dim for lstm is 10\n",
    "    outputs = [src_len,batch_size,hid_dim*n_layers]\n",
    "    hidden = [n layers * n directions, batch size, hid dim] [2,128,10] 2 for 2 layer\n",
    "    cell = [n layers * n directions, batch size, hid dim] [2,128,10] 2 for 2 layer\n",
    "    \n",
    "    '''\n",
    "    \n",
    "    def __init__(self, input_dim, emb_dim, hid_dim, dropout):\n",
    "        super().__init__()\n",
    "        self.hid_dim = hid_dim\n",
    "        self.n_layers = 1\n",
    "        \n",
    "        self.embedding = nn.Embedding(input_dim,emb_dim) #no dropout as only one layer!\n",
    "        self.rnn = nn.GRU(emb_dim,hid_dim)\n",
    "        self.dropout = nn.Dropout(dropout)\n",
    "        \n",
    "    def forward(self, src):\n",
    "        # src = [src_len, batch_size, emb_dim]\n",
    "        embedded = self.dropout(self.embedding(src))\n",
    "        \n",
    "        # embedded = [src_len, batch_size, emb_dim]\n",
    "        outputs, hidden = self.rnn(embedded)  #no cell state because we are using GRU\n",
    "        \n",
    "        #outputs = [src len, batch size, hid dim * n directions]\n",
    "        #hidden = [n layers * n directions, batch size, hid dim]\n",
    "        \n",
    "        # outputs are always from top hidden layer\n",
    "        \n",
    "        return hidden\n",
    "        \n"
   ]
  },
  {
   "cell_type": "markdown",
   "metadata": {},
   "source": [
    "## Decoder\n",
    "\n",
    "The decoder is where the implementation differs significantly from the previous model and we alleviate some of the information compression.\n",
    "\n",
    "Instead of the GRU in the decoder taking just the embedded target token, $d(y_t)$ and the previous hidden state $s_{t-1}$ as inputs, it also takes the context vector $z$. \n",
    "\n",
    "$$s_t = \\text{DecoderGRU}(d(y_t), s_{t-1}, z)$$\n",
    "\n",
    "Note how this context vector, $z$, does not have a $t$ subscript, meaning we re-use the same context vector returned by the encoder for every time-step in the decoder. \n",
    "\n",
    "Before, we predicted the next token, $\\hat{y}_{t+1}$, with the linear layer, $f$, only using the top-layer decoder hidden state at that time-step, $s_t$, as $\\hat{y}_{t+1}=f(s_t^L)$. Now, we also pass the embedding of current token, $d(y_t)$ and the context vector, $z$ to the linear layer.\n",
    "\n",
    "$$\\hat{y}_{t+1} = f(d(y_t), s_t, z)$$\n",
    "\n",
    "Thus, our decoder now looks something like this:\n",
    "\n",
    "![](https://github.com/bentrevett/pytorch-seq2seq/blob/master/assets/seq2seq6.png?raw=1)\n",
    "\n",
    "Note, the initial hidden state, $s_0$, is still the context vector, $z$, so when generating the first token we are actually inputting two identical context vectors into the GRU.\n",
    "\n",
    "How do these two changes reduce the information compression? Well, hypothetically the decoder hidden states, $s_t$, no longer need to contain information about the source sequence as it is always available as an input. Thus, it only needs to contain information about what tokens it has generated so far. The addition of $y_t$ to the linear layer also means this layer can directly see what the token is, without having to get this information from the hidden state. \n",
    "\n",
    "However, this hypothesis is just a hypothesis, it is impossible to determine how the model actually uses the information provided to it (don't listen to anyone that says differently). Nevertheless, it is a solid intuition and the results seem to indicate that this modifications are a good idea!\n",
    "\n",
    "Within the implementation, we will pass $d(y_t)$ and $z$ to the GRU by concatenating them together, so the input dimensions to the GRU are now `emb_dim + hid_dim` (as context vector will be of size `hid_dim`). The linear layer will take $d(y_t), s_t$ and $z$ also by concatenating them together, hence the input dimensions are now `emb_dim + hid_dim*2`. We also don't pass a value of dropout to the GRU as it only uses a single layer.\n",
    "\n",
    "`forward` now takes a `context` argument. Inside of `forward`, we concatenate $y_t$ and $z$ as `emb_con` before feeding to the GRU, and we concatenate $d(y_t)$, $s_t$ and $z$ together as `output` before feeding it through the linear layer to receive our predictions, $\\hat{y}_{t+1}$."
   ]
  },
  {
   "cell_type": "code",
   "execution_count": 33,
   "metadata": {
    "ExecuteTime": {
     "end_time": "2021-01-26T11:04:04.714445Z",
     "start_time": "2021-01-26T11:04:04.710524Z"
    }
   },
   "outputs": [],
   "source": [
    "class Decoder(nn.Module):\n",
    "    '''\n",
    "        Decoder takes an input and runs it through the lstm\n",
    "        decoder runs one word of batch\n",
    "        for example let's say the input size is [128]\n",
    "        here 128 means a batch of 128 words lets say all the 0th index 128 words\n",
    "        \n",
    "        first pass it through embedding dim of let's say 512\n",
    "        so the embedding output will be [1,batch_size,emb_dim][1,128,512]\n",
    "        then pass this ti lstm which will give you output and hidden cell state \n",
    "        outputs will have output at each time step so the first dim is src_len\n",
    "        but since decoder has only one word of batch the first dim is 0 here\n",
    "        hidden and cell os the dinal state output so they don't have src_len in the output as usual\n",
    "        let's say hidden dim for lstm is 10\n",
    "        outputs = [src_len,btach_size,hid_dim*n_directions][1,128,10] 1 here because decoder runs one word\n",
    "        hidden = [n layers * n directions, batch size, hid dim] [2,128,10] 2 for 2 layer, we are using 1 here\n",
    "        cell = [n layers * n directions, batch size, hid dim] [2,128,10] 2 for 2 layer, we are using 1 here\n",
    "    '''\n",
    "    def __init__(self, output_dim, emb_dim, hid_dim, dropout):\n",
    "        super().__init__()\n",
    "\n",
    "        self.hid_dim = hid_dim\n",
    "        self.output_dim = output_dim\n",
    "\n",
    "        self.embedding = nn.Embedding(output_dim, emb_dim)\n",
    "\n",
    "        self.rnn = nn.GRU(emb_dim + hid_dim, hid_dim)\n",
    "\n",
    "        self.fc_out = nn.Linear(emb_dim + hid_dim * 2,\n",
    "                                output_dim)  # we are using same dim here\n",
    "\n",
    "        self.dropout = nn.Dropout(dropout)\n",
    "\n",
    "    def forward(self, input, hidden, context):\n",
    "        \n",
    "        # input = [batch_size]\n",
    "        # hidden = [n_layers*n_direction,batch_size,hid_dim]\n",
    "        # context = [n_layers*n_direction,batch_size,hid_dim]\n",
    "        # n layers and n directions in the decoder will both always be 1,therefore ?? why always, only in this case, for example if we use 2 layers it may change\n",
    "        # hidden = [1, batch_size, hid_dim]\n",
    "        # context = [1, batch_size, hid_dim]\n",
    "        \n",
    "        input = input.unsqueeze(0)\n",
    "        # input = [1, batch_size]\n",
    "        embedded = self.dropout(self.embedding(input))\n",
    "        # embedded = [1,batch_size,emb_dim]\n",
    "        \n",
    "        emb_con = torch.cat((embedded, context),\n",
    "                             dim=2)  # last dim is output dim\n",
    "        # emb_con = [1,batch_size,emb_dim+hid_dim]\n",
    "\n",
    "        output, hidden = self.rnn(emb_con, hidden)\n",
    "        # output = [seq_len,batch_size,hid_dim*n_directions]\n",
    "        # hidden = [n_layers * n_directions,batch_size,hid_dim]\n",
    "        \n",
    "        #seq len, n layers and n directions will always be 1 in the decoder, therefore:\n",
    "        #output = [1, batch size, hid dim]\n",
    "        #hidden = [1, batch size, hid dim]\n",
    "        \n",
    "        output = torch.cat((embedded.squeeze(0), hidden.squeeze(0), context.squeeze(0)), dim = 1)\n",
    "        \n",
    "        prediction = self.fc_out(output.squeeze(0))\n",
    "        #prediction = [batch size, output dim]\n",
    "        \n",
    "        # print('--------- check the shapes inside Decoder forward ---------')\n",
    "        # print('input shape {}, hidden shape {}, context shape {}'.format(input.shape,hidden.shape,context.shape))\n",
    "        # print('embedded shape {},emb_con shape {},output shape {},hidden shape {},'.format(embedded.shape,emb_con.shape,output.shape,hidden.shape))\n",
    "        # print('prediction shape {}'.format(prediction.shape))\n",
    "        \n",
    "        return prediction, hidden"
   ]
  },
  {
   "cell_type": "markdown",
   "metadata": {
    "ExecuteTime": {
     "end_time": "2021-01-07T18:42:50.775364Z",
     "start_time": "2021-01-07T18:42:50.750915Z"
    }
   },
   "source": [
    "## Seq2Seq Model\n",
    "\n",
    "Putting the encoder and decoder together, we get:\n",
    "\n",
    "![](https://github.com/bentrevett/pytorch-seq2seq/blob/master/assets/seq2seq7.png?raw=1)\n",
    "\n",
    "Again, in this implementation we need to ensure the hidden dimensions in both the encoder and the decoder are the same.\n",
    "\n",
    "Briefly going over all of the steps:\n",
    "- the `outputs` tensor is created to hold all predictions, $\\hat{Y}$\n",
    "- the source sequence, $X$, is fed into the encoder to receive a `context` vector\n",
    "- the initial decoder hidden state is set to be the `context` vector, $s_0 = z = h_T$\n",
    "- we use a batch of `<sos>` tokens as the first `input`, $y_1$\n",
    "- we then decode within a loop:\n",
    "  - inserting the input token $y_t$, previous hidden state, $s_{t-1}$, and the context vector, $z$, into the decoder\n",
    "  - receiving a prediction, $\\hat{y}_{t+1}$, and a new hidden state, $s_t$\n",
    "  - we then decide if we are going to teacher force or not, setting the next input as appropriate (either the ground truth next token in the target sequence or the highest predicted next token)"
   ]
  },
  {
   "cell_type": "code",
   "execution_count": 34,
   "metadata": {
    "ExecuteTime": {
     "end_time": "2021-01-26T11:04:05.602564Z",
     "start_time": "2021-01-26T11:04:05.598727Z"
    }
   },
   "outputs": [],
   "source": [
    "class Seq2Seq(nn.Module):\n",
    "    def __init__(self, encoder, decoder, device):\n",
    "        super().__init__()\n",
    "\n",
    "        self.encoder = encoder\n",
    "        self.decoder = decoder\n",
    "        self.device = device\n",
    "\n",
    "        assert encoder.hid_dim == decoder.hid_dim, \\\n",
    "            \"Hidden dimensions of encoder and decoder must be equal!\"\n",
    "\n",
    "    def forward(self, src, trg, teacher_forcing_ratio=0.5):\n",
    "\n",
    "        # src = [src_len,batch_size]\n",
    "        # trg = [trg_len,batch_size]\n",
    "\n",
    "        # teacher_forcing_ratio is probability to use teacher forcing\n",
    "        # e.g if teacher_forcing_ratio is 0.75 we use ground-truth inputs 75% of the time\n",
    "\n",
    "        batch_size = trg.shape[1]\n",
    "        trg_len = trg.shape[0]\n",
    "        trg_vocab_size = self.decoder.output_dim\n",
    "\n",
    "        # tensor to store decoder outputs\n",
    "        outputs = torch.zeros(trg_len, batch_size, trg_vocab_size).to(device)\n",
    "\n",
    "        # last hidden state of the encoder is the context\n",
    "        context = self.encoder(src)\n",
    "\n",
    "        # context also used as the initial hidden state of the decoder\n",
    "        hidden = context\n",
    "\n",
    "        # first inout to the decoder is the <sos> tokens\n",
    "        input = trg[0, :]\n",
    "\n",
    "        # print('--------- check the shapes inside Seq2Seq forward ---------')\n",
    "        # print('src shape {}, trg shape {}'.format(src.shape,trg.shape))\n",
    "        # print('batch_size is {} , trg_len is {} , trg_vocab_size {} , outputs shape {} ,'.format(batch_size,trg_len,trg_vocab_size,outputs.shape))\n",
    "        # print('context vector {}, '.format(context.shape))\n",
    "        \n",
    "        for t in range(1, trg_len):\n",
    "\n",
    "            # insert input token embeddingm previous hidden state and the context state\n",
    "            # recieve output tensor i.e predictions and the new hidden state\n",
    "            # context/hidden dim is [1,batch_size,hid_dim_enc], 1 for 1 layer\n",
    "            # output dim [batch_size,vocab_len]\n",
    "            \n",
    "            output, hidden = self.decoder(input, hidden, context)\n",
    "\n",
    "            # place predictions in a tensor holding predictions for each token\n",
    "            outputs[t] = output\n",
    "\n",
    "            # decide if we are going to use teacher forcing or not\n",
    "            teacher_force = random.random() < teacher_forcing_ratio\n",
    "\n",
    "            # get the highest prediction token from out predictions\n",
    "            # top1 has the dim [batch_size,vocab_len]\n",
    "            # each example/word output a vector of target vocab length and we are taking the index of that\n",
    "            # out has trg_vocab size , let's say there are 1000 words and by taking index\n",
    "            # we are saying select the word which has highest value\n",
    "            top1 = output.argmax(\n",
    "                1)\n",
    "\n",
    "            #if teacher forcing, use actual next token as next input\n",
    "            #if not, use predicted token\n",
    "            input = trg[t] if teacher_force else top1\n",
    "\n",
    "        return outputs"
   ]
  },
  {
   "cell_type": "markdown",
   "metadata": {},
   "source": [
    "## Training the Seq2Seq Model\n",
    "\n",
    "We initialise our parameters, encoder, decoder and seq2seq model (placing it on the GPU if we have one). "
   ]
  },
  {
   "cell_type": "code",
   "execution_count": 35,
   "metadata": {
    "ExecuteTime": {
     "end_time": "2021-01-26T11:04:07.983527Z",
     "start_time": "2021-01-26T11:04:06.552994Z"
    }
   },
   "outputs": [],
   "source": [
    "INPUT_DIM = len(English.vocab)\n",
    "OUTPUT_DIM = len(Italian.vocab)\n",
    "ENC_EMB_DIM = 256\n",
    "DEC_EMB_DIM = 256\n",
    "HID_DIM = 512\n",
    "ENC_DROPOUT = 0.5\n",
    "DEC_DROPOUT = 0.5\n",
    "\n",
    "enc = Encoder(INPUT_DIM, ENC_EMB_DIM, HID_DIM, ENC_DROPOUT)\n",
    "dec = Decoder(OUTPUT_DIM, DEC_EMB_DIM, HID_DIM, DEC_DROPOUT)\n",
    "\n",
    "device = torch.device('cuda' if torch.cuda.is_available() else 'cpu')\n",
    "\n",
    "model = Seq2Seq(enc, dec, device).to(device)"
   ]
  },
  {
   "cell_type": "code",
   "execution_count": 36,
   "metadata": {
    "ExecuteTime": {
     "end_time": "2021-01-26T11:04:08.407934Z",
     "start_time": "2021-01-26T11:04:08.373863Z"
    }
   },
   "outputs": [
    {
     "name": "stdout",
     "output_type": "stream",
     "text": [
      "testing model by feedign some data\n",
      "input shape torch.Size([15, 8]) torch.Size([20, 8])\n",
      "output shape torch.Size([20, 8, 17109])\n"
     ]
    }
   ],
   "source": [
    "# check the model with input,output shapes\n",
    "print('testing model by feedign some data')\n",
    "x = next(iter(train_iterator))\n",
    "src,src_length = x.english \n",
    "trg,trg_length = x.italian\n",
    "print(\"input shape\", src.shape,trg.shape)\n",
    "output = model(src, trg)\n",
    "print(\"output shape\",output.shape)"
   ]
  },
  {
   "cell_type": "markdown",
   "metadata": {},
   "source": [
    "We use a simplified version of the weight initialization scheme used in the paper. Here, we will initialize all biases to zero and all weights from $\\mathcal{N}(0, 0.01)$."
   ]
  },
  {
   "cell_type": "code",
   "execution_count": 37,
   "metadata": {
    "ExecuteTime": {
     "end_time": "2021-01-26T11:04:08.872307Z",
     "start_time": "2021-01-26T11:04:08.868200Z"
    }
   },
   "outputs": [
    {
     "data": {
      "text/plain": [
       "Seq2Seq(\n",
       "  (encoder): Encoder(\n",
       "    (embedding): Embedding(12421, 256)\n",
       "    (rnn): GRU(256, 512)\n",
       "    (dropout): Dropout(p=0.5, inplace=False)\n",
       "  )\n",
       "  (decoder): Decoder(\n",
       "    (embedding): Embedding(17109, 256)\n",
       "    (rnn): GRU(768, 512)\n",
       "    (fc_out): Linear(in_features=1280, out_features=17109, bias=True)\n",
       "    (dropout): Dropout(p=0.5, inplace=False)\n",
       "  )\n",
       ")"
      ]
     },
     "execution_count": 37,
     "metadata": {},
     "output_type": "execute_result"
    }
   ],
   "source": [
    "def init_weights(m):\n",
    "    for name, param in m.named_parameters():\n",
    "        nn.init.normal_(param.data, mean=0, std=0.01)\n",
    "        \n",
    "model.apply(init_weights)"
   ]
  },
  {
   "cell_type": "markdown",
   "metadata": {},
   "source": [
    "Calculate the number of parameters"
   ]
  },
  {
   "cell_type": "code",
   "execution_count": 38,
   "metadata": {
    "ExecuteTime": {
     "end_time": "2021-01-26T11:04:09.321181Z",
     "start_time": "2021-01-26T11:04:09.318924Z"
    }
   },
   "outputs": [
    {
     "name": "stdout",
     "output_type": "stream",
     "text": [
      "The model has 32,628,181 trainable parameters\n"
     ]
    }
   ],
   "source": [
    "def count_parameters(model):\n",
    "    return sum(p.numel() for p in model.parameters() if p.requires_grad)\n",
    "\n",
    "print(f'The model has {count_parameters(model):,} trainable parameters')"
   ]
  },
  {
   "cell_type": "markdown",
   "metadata": {},
   "source": [
    "We create an optimizer."
   ]
  },
  {
   "cell_type": "code",
   "execution_count": 39,
   "metadata": {
    "ExecuteTime": {
     "end_time": "2021-01-26T11:04:09.782705Z",
     "start_time": "2021-01-26T11:04:09.780871Z"
    }
   },
   "outputs": [],
   "source": [
    "optimizer = optim.Adam(model.parameters())"
   ]
  },
  {
   "cell_type": "markdown",
   "metadata": {},
   "source": [
    "We initialize the loss function."
   ]
  },
  {
   "cell_type": "code",
   "execution_count": 40,
   "metadata": {
    "ExecuteTime": {
     "end_time": "2021-01-26T11:04:10.235901Z",
     "start_time": "2021-01-26T11:04:10.233831Z"
    }
   },
   "outputs": [],
   "source": [
    "## TODO check this\n",
    "it_PAD_IDX = italian_vocab.stoi[Italian.pad_token]\n",
    "\n",
    "criterion = nn.CrossEntropyLoss(ignore_index = it_PAD_IDX)"
   ]
  },
  {
   "cell_type": "markdown",
   "metadata": {},
   "source": [
    "We then create the training loop..."
   ]
  },
  {
   "cell_type": "code",
   "execution_count": 41,
   "metadata": {
    "ExecuteTime": {
     "end_time": "2021-01-26T11:04:10.729618Z",
     "start_time": "2021-01-26T11:04:10.726314Z"
    }
   },
   "outputs": [],
   "source": [
    "def train(model, iterator, optimizer, criterion, clip):\n",
    "    \n",
    "    model.train()\n",
    "    \n",
    "    epoch_loss = 0\n",
    "    \n",
    "    for i, batch in enumerate(iterator):\n",
    "        \n",
    "        src, src_length = batch.english\n",
    "        trg, trg_length = batch.italian\n",
    "        \n",
    "\n",
    "        optimizer.zero_grad()\n",
    "        \n",
    "        output = model(src, trg)\n",
    "        \n",
    "        #trg = [trg len, batch size]\n",
    "        #output = [trg len, batch size, output dim]\n",
    "        \n",
    "        output_dim = output.shape[-1]\n",
    "        \n",
    "        output = output[1:].view(-1, output_dim) #  ignoring first dim for init token\n",
    "        trg = trg[1:].view(-1) #  ignoring first dim for init token\n",
    "        \n",
    "        #trg = [(trg len - 1) * batch size]\n",
    "        #output = [(trg len - 1) * batch size, output dim]\n",
    "        \n",
    "        loss = criterion(output, trg)\n",
    "        \n",
    "        loss.backward()\n",
    "        \n",
    "        torch.nn.utils.clip_grad_norm_(model.parameters(), clip)\n",
    "        \n",
    "        optimizer.step()\n",
    "        \n",
    "        epoch_loss += loss.item()\n",
    "        \n",
    "        if(i % 1000 == 0):\n",
    "            print(f\"{i} steps are done\")\n",
    "        \n",
    "    return epoch_loss / len(iterator)"
   ]
  },
  {
   "cell_type": "markdown",
   "metadata": {},
   "source": [
    "...and the evaluation loop, remembering to set the model to `eval` mode and turn off teaching forcing."
   ]
  },
  {
   "cell_type": "code",
   "execution_count": 42,
   "metadata": {
    "ExecuteTime": {
     "end_time": "2021-01-26T11:04:11.853914Z",
     "start_time": "2021-01-26T11:04:11.848167Z"
    }
   },
   "outputs": [],
   "source": [
    "def evaluate(model, iterator, criterion):\n",
    "    \n",
    "    model.eval()\n",
    "    \n",
    "    epoch_loss = 0\n",
    "    \n",
    "    with torch.no_grad():\n",
    "    \n",
    "        for i, batch in enumerate(iterator):\n",
    "\n",
    "            src, src_length = batch.english\n",
    "            trg, trg_length = batch.italian\n",
    "\n",
    "            output = model(src, trg, 0) #turn off teacher forcing\n",
    "\n",
    "            #trg = [trg len, batch size]\n",
    "            #output = [trg len, batch size, output dim]\n",
    "\n",
    "            output_dim = output.shape[-1]\n",
    "            \n",
    "            output = output[1:].view(-1, output_dim)\n",
    "            trg = trg[1:].view(-1)\n",
    "\n",
    "            #trg = [(trg len - 1) * batch size]\n",
    "            #output = [(trg len - 1) * batch size, output dim]\n",
    "\n",
    "            loss = criterion(output, trg)\n",
    "\n",
    "            epoch_loss += loss.item()\n",
    "        \n",
    "    return epoch_loss / len(iterator)"
   ]
  },
  {
   "cell_type": "markdown",
   "metadata": {},
   "source": [
    "Finally, define a timing function."
   ]
  },
  {
   "cell_type": "code",
   "execution_count": 43,
   "metadata": {
    "ExecuteTime": {
     "end_time": "2021-01-26T11:04:12.893229Z",
     "start_time": "2021-01-26T11:04:12.882401Z"
    }
   },
   "outputs": [],
   "source": [
    "def epoch_time(start_time, end_time):\n",
    "    elapsed_time = end_time - start_time\n",
    "    elapsed_mins = int(elapsed_time / 60)\n",
    "    elapsed_secs = int(elapsed_time - (elapsed_mins * 60))\n",
    "    return elapsed_mins, elapsed_secs"
   ]
  },
  {
   "cell_type": "markdown",
   "metadata": {},
   "source": [
    "Then, we train our model, saving the parameters that give us the best \n"
   ]
  },
  {
   "cell_type": "code",
   "execution_count": null,
   "metadata": {
    "ExecuteTime": {
     "start_time": "2021-01-26T11:04:17.038Z"
    }
   },
   "outputs": [
    {
     "name": "stdout",
     "output_type": "stream",
     "text": [
      "0 steps are done\n"
     ]
    }
   ],
   "source": [
    "N_EPOCHS = 10\n",
    "CLIP = 1\n",
    "\n",
    "best_valid_loss = float('inf')\n",
    "\n",
    "for epoch in range(N_EPOCHS):\n",
    "    \n",
    "    start_time = time.time()\n",
    "    \n",
    "    train_loss = train(model, train_iterator, optimizer, criterion, CLIP)\n",
    "    valid_loss = evaluate(model, valid_iterator, criterion)\n",
    "    \n",
    "    end_time = time.time()\n",
    "    \n",
    "    epoch_mins, epoch_secs = epoch_time(start_time, end_time)\n",
    "    \n",
    "    if valid_loss < best_valid_loss:\n",
    "        best_valid_loss = valid_loss\n",
    "        torch.save(model.state_dict(), 'enit_vanila_encoder_decoder.pt')\n",
    "    \n",
    "    print(f'Epoch: {epoch+1:02} | Time: {epoch_mins}m {epoch_secs}s')\n",
    "    print(f'\\tTrain Loss: {train_loss:.3f} | Train PPL: {math.exp(train_loss):7.3f}')\n",
    "    print(f'\\t Val. Loss: {valid_loss:.3f} |  Val. PPL: {math.exp(valid_loss):7.3f}')"
   ]
  },
  {
   "cell_type": "markdown",
   "metadata": {},
   "source": [
    "Finally, we test the model on the test set using these \"best\" parameters."
   ]
  },
  {
   "cell_type": "code",
   "execution_count": null,
   "metadata": {
    "ExecuteTime": {
     "end_time": "2021-01-22T05:13:40.959221Z",
     "start_time": "2021-01-22T05:13:25.562285Z"
    }
   },
   "outputs": [],
   "source": [
    "model.load_state_dict(torch.load('enit_vanila_encoder_decoder.pt'))\n",
    "\n",
    "test_loss = evaluate(model, test_iterator, criterion)\n",
    "\n",
    "print(f'| Test Loss: {test_loss:.3f} | Test PPL: {math.exp(test_loss):7.3f} |')"
   ]
  },
  {
   "cell_type": "code",
   "execution_count": null,
   "metadata": {},
   "outputs": [],
   "source": [
    "# 0 steps are done\n",
    "# 1000 steps are done\n",
    "# 2000 steps are done\n",
    "# Epoch: 01 | Time: 5m 20s\n",
    "# \tTrain Loss: 6.146 | Train PPL: 467.024\n",
    "# \t Val. Loss: 5.711 |  Val. PPL: 302.167\n",
    "# 0 steps are done\n",
    "# 1000 steps are done\n",
    "# 2000 steps are done\n",
    "# Epoch: 02 | Time: 5m 28s\n",
    "# \tTrain Loss: 5.529 | Train PPL: 252.002\n",
    "# \t Val. Loss: 5.502 |  Val. PPL: 245.060\n",
    "# 0 steps are done\n",
    "# 1000 steps are done\n",
    "# 2000 steps are done\n",
    "# Epoch: 03 | Time: 5m 29s\n",
    "# \tTrain Loss: 5.053 | Train PPL: 156.557\n",
    "# \t Val. Loss: 5.421 |  Val. PPL: 226.166\n",
    "# 0 steps are done\n",
    "# 1000 steps are done\n",
    "# 2000 steps are done\n",
    "# Epoch: 04 | Time: 5m 23s\n",
    "# \tTrain Loss: 4.545 | Train PPL:  94.144\n",
    "# \t Val. Loss: 5.511 |  Val. PPL: 247.375\n",
    "# 0 steps are done\n",
    "# 1000 steps are done\n",
    "# 2000 steps are done\n",
    "# Epoch: 05 | Time: 5m 23s\n",
    "# \tTrain Loss: 4.073 | Train PPL:  58.728\n",
    "# \t Val. Loss: 5.661 |  Val. PPL: 287.505\n",
    "# 0 steps are done\n",
    "# 1000 steps are done\n",
    "# 2000 steps are done\n",
    "# Epoch: 06 | Time: 5m 21s\n",
    "# \tTrain Loss: 3.780 | Train PPL:  43.812\n",
    "# \t Val. Loss: 5.756 |  Val. PPL: 316.100\n",
    "# 0 steps are done\n",
    "# 1000 steps are done\n",
    "# 2000 steps are done\n",
    "# Epoch: 07 | Time: 5m 16s\n",
    "# \tTrain Loss: 3.608 | Train PPL:  36.905\n",
    "# \t Val. Loss: 5.843 |  Val. PPL: 344.804\n",
    "# 0 steps are done\n",
    "# 1000 steps are done\n",
    "# 2000 steps are done\n",
    "# Epoch: 08 | Time: 5m 18s\n",
    "# \tTrain Loss: 3.462 | Train PPL:  31.888\n",
    "# \t Val. Loss: 5.927 |  Val. PPL: 374.864\n",
    "# 0 steps are done\n",
    "# 1000 steps are done\n",
    "# 2000 steps are done\n",
    "# Epoch: 09 | Time: 5m 16s\n",
    "# \tTrain Loss: 3.333 | Train PPL:  28.011\n",
    "# \t Val. Loss: 5.994 |  Val. PPL: 400.829\n",
    "# 0 steps are done\n",
    "# 1000 steps are done\n",
    "# 2000 steps are done\n",
    "# Epoch: 10 | Time: 5m 15s\n",
    "# \tTrain Loss: 3.236 | Train PPL:  25.422\n",
    "# \t Val. Loss: 6.056 |  Val. PPL: 426.827"
   ]
  }
 ],
 "metadata": {
  "kernelspec": {
   "display_name": "pytorch",
   "language": "python",
   "name": "pytorch"
  },
  "language_info": {
   "codemirror_mode": {
    "name": "ipython",
    "version": 3
   },
   "file_extension": ".py",
   "mimetype": "text/x-python",
   "name": "python",
   "nbconvert_exporter": "python",
   "pygments_lexer": "ipython3",
   "version": "3.8.5"
  },
  "varInspector": {
   "cols": {
    "lenName": 16,
    "lenType": 16,
    "lenVar": 40
   },
   "kernels_config": {
    "python": {
     "delete_cmd_postfix": "",
     "delete_cmd_prefix": "del ",
     "library": "var_list.py",
     "varRefreshCmd": "print(var_dic_list())"
    },
    "r": {
     "delete_cmd_postfix": ") ",
     "delete_cmd_prefix": "rm(",
     "library": "var_list.r",
     "varRefreshCmd": "cat(var_dic_list()) "
    }
   },
   "types_to_exclude": [
    "module",
    "function",
    "builtin_function_or_method",
    "instance",
    "_Feature"
   ],
   "window_display": false
  }
 },
 "nbformat": 4,
 "nbformat_minor": 4
}
