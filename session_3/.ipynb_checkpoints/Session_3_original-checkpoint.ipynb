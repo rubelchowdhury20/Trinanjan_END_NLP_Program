{
 "cells": [
  {
   "cell_type": "markdown",
   "metadata": {
    "cell_id": "00000-7897b551-990d-42b3-9d68-5db1cfd579a7",
    "tags": []
   },
   "source": [
    "# The Python Type Hierarchy\n",
    "\n",
    "## Numbers\n",
    "1. Integral - Integers and Booleans\n",
    "2. Non-Integral - Floats, Complex, Decimals and Fractions\n",
    "\n",
    "* Booleans are also integral numbers, they are actually integers\n",
    "* Floats are implemented as doubles in the underlying C\n",
    "* Floats and decimals are used to represent natural numbers, but decimals give us more control over the precision of these numbers\n",
    "* Fractions An interesting way of dealing with numbers (22/7). A number like ⅓ is an irrational number and cannot be float/decimal in any prog language"
   ]
  },
  {
   "cell_type": "markdown",
   "metadata": {
    "cell_id": "00001-88ca3905-6a7b-4ef2-8707-8d4a0335f3f9",
    "tags": []
   },
   "source": [
    "## Collections\n",
    "\n",
    "### Sequences\n",
    "1. Mutable - Lists\n",
    "2. Immutable - Tuples and Strings\n",
    "\n",
    "### Sets\n",
    "1. Mutable - Sets\n",
    "2. Immutable - Frozensets\n",
    "\n",
    "### Mappings\n",
    "1. Dictionaries\n",
    "\n",
    "Collections:\n",
    "\n",
    "Tuples are immutable variants of lists\n",
    "\n",
    "Strings is also a sequence type\n",
    "\n",
    "Dictionaries and sets are related,\n",
    "* they are implemented very similarly\n",
    "* both are basically hashmaps\n",
    "* only diff.. sets are not key-value pair.. but a dictionary which has only keys and no values"
   ]
  },
  {
   "cell_type": "markdown",
   "metadata": {
    "cell_id": "00002-92b8f66f-8549-4c6e-9b35-664902b211b7",
    "tags": []
   },
   "source": [
    "## Callables \n",
    "\n",
    "1. User Defined Functions\n",
    "2. Generators\n",
    "3. Classes\n",
    "4. Instance Methods\n",
    "5. Class Instances (_\\_call__())\n",
    "6. Built-in Functions (e.g. len(), open())\n",
    "7. Built-in Methods (e.g. my_list.append(x))\n",
    "\n",
    "## Singleton Objects\n",
    "1. None\n",
    "2. -5 to 256 integers\n",
    "3. small strings\n",
    "\n",
    "* Callables - anything you can invoke, you can call.. function is a callable for example..\n",
    "* a generator is something we can use for iteration\n",
    "* Instance methods are just functions but inside a class… and they become instance method once the class gets instantiated\n",
    "* class instances that are callable.. define __call__ () which makes the Class Instance callable\n",
    "* Built-in methods are very similar to Instance Methods\n",
    "* None is an object that exists, and whenever you set a variable to None, it always points to the same memory location\n"
   ]
  },
  {
   "cell_type": "markdown",
   "metadata": {
    "cell_id": "00003-df6fecb2-e60b-4a9c-9ed9-dffcbf677881",
    "tags": []
   },
   "source": [
    "## Multi-line Statement and Strings\n",
    "\n",
    "A python program basically is a text file, a text document, that contains a physical line of code\n",
    "\n",
    "* You write your code over multiple lines.. you use enter key to move to a new line, called a physical new line.\n",
    "* That code is then parsed by the Python compiler and it combines certain lines of code into \"logical lines of code\" which are then tokenized.\n",
    "* They are tokenized so the interpreter can interpret it and actually execute it. \n",
    "* So there is a difference between a physical newline and logical newlines. \n",
    "\n",
    "### Implicit removal/line-breaks\n",
    "\n",
    "There are expressions which support implicit removal of line-breaks:\n",
    "* list\n",
    "* tuple\n",
    "* dictionary\n",
    "* set\n",
    "* function arguments\n",
    "\n",
    "### Explicit\n",
    "\n",
    "Sometimes Python will not remove our newline character, and in those cases, we need to explicitly inform Python to do so on our behalf using the \"\\\" backslack character. \n",
    "\n",
    "### Multi-line String Literals\n",
    "\n",
    "Multi-line string literals can be created using triple delimiters (' or \")"
   ]
  },
  {
   "cell_type": "code",
   "execution_count": null,
   "metadata": {
    "cell_id": "00001-867d7e1c-0c60-431f-9466-abe5f277a9d1",
    "execution_millis": 1,
    "execution_start": 1604024956591,
    "output_cleared": false,
    "source_hash": "a69f51b3",
    "tags": []
   },
   "outputs": [],
   "source": [
    "a = [1, 2, 3]\n",
    "print(f'The type and value of a are {type(a)} and {a}')"
   ]
  },
  {
   "cell_type": "code",
   "execution_count": null,
   "metadata": {
    "cell_id": "00000-e8e3cd52-177a-4ed5-b92e-089bf906a754",
    "execution_millis": 1,
    "execution_start": 1604024987988,
    "output_cleared": false,
    "source_hash": "d681f580",
    "tags": []
   },
   "outputs": [],
   "source": [
    "a = [1, 2, #comment\n",
    "    3, 4, 5]\n",
    "\n",
    "a"
   ]
  },
  {
   "cell_type": "code",
   "execution_count": null,
   "metadata": {
    "cell_id": "00006-bb9989ae-2363-41ac-88ca-979a30cccd27",
    "execution_millis": 3,
    "execution_start": 1604024993123,
    "output_cleared": false,
    "source_hash": "5df6ee3b",
    "tags": []
   },
   "outputs": [],
   "source": [
    "a = [1 , #comment,\n",
    "      2]"
   ]
  },
  {
   "cell_type": "code",
   "execution_count": null,
   "metadata": {
    "cell_id": "00007-f9377802-8778-4e3b-9a73-5d918228764f",
    "execution_millis": 0,
    "execution_start": 1604025004770,
    "output_cleared": false,
    "source_hash": "b312fe58",
    "tags": []
   },
   "outputs": [],
   "source": [
    "a = [1, #comment\n",
    "    2]"
   ]
  },
  {
   "cell_type": "code",
   "execution_count": null,
   "metadata": {
    "cell_id": "00008-7413db96-4408-4555-a7ce-f4f8c7945491",
    "execution_millis": 2,
    "execution_start": 1604025012439,
    "output_cleared": false,
    "source_hash": "f0d5bab8",
    "tags": []
   },
   "outputs": [],
   "source": [
    "a = [1 #comment\n",
    "    ,2]"
   ]
  },
  {
   "cell_type": "code",
   "execution_count": null,
   "metadata": {
    "cell_id": "00009-76ab3451-0fc5-4023-b88b-72e3459d4d38",
    "execution_millis": 0,
    "execution_start": 1604025025148,
    "output_cleared": false,
    "source_hash": "404cec2f",
    "tags": []
   },
   "outputs": [],
   "source": [
    "a = {'key1': 1 #value of key 1\n",
    "    ,'key2': 2 #value of key 2}"
   ]
  },
  {
   "cell_type": "code",
   "execution_count": null,
   "metadata": {
    "cell_id": "00010-4fd22385-e2d1-45e5-9863-800ff261578b",
    "execution_millis": 4,
    "execution_start": 1604025035181,
    "output_cleared": false,
    "source_hash": "3c2c7ca7",
    "tags": []
   },
   "outputs": [],
   "source": [
    "a = {'key1': 1 #value of key 1\n",
    "    ,'key2': 2 #value of key 2\n",
    "    }"
   ]
  },
  {
   "cell_type": "code",
   "execution_count": null,
   "metadata": {
    "cell_id": "00011-8d26fb9c-9294-4beb-bed4-18ebda9a2c09",
    "execution_millis": 0,
    "execution_start": 1604025057340,
    "output_cleared": false,
    "source_hash": "b44ef458",
    "tags": []
   },
   "outputs": [],
   "source": [
    "def my_func(batch_size, #this is the batch size\n",
    "            model_name, #this is the model\n",
    "            model_version #this is the model version):\n",
    "    print(f\"The batch size for the {model_name}{model_version} is {batch_size}\")\n",
    "\n",
    "my_func(32, \"BERT\", \"34\")"
   ]
  },
  {
   "cell_type": "code",
   "execution_count": null,
   "metadata": {
    "cell_id": "00012-001891c7-9578-45e8-8388-a5c48345dbc8",
    "execution_millis": 0,
    "execution_start": 1604025079012,
    "output_cleared": false,
    "source_hash": "78b7c024",
    "tags": []
   },
   "outputs": [],
   "source": [
    "def my_func(batch_size, #this is the batch size\n",
    "            model_name, #this is the model\n",
    "            model_version #this is the model version\n",
    "            ):\n",
    "    print(f\"The batch size for the {model_name}{model_version} is {batch_size}\")\n",
    "\n",
    "my_func(32, \"BERT\", \"34\")"
   ]
  },
  {
   "cell_type": "code",
   "execution_count": null,
   "metadata": {
    "cell_id": "00013-e8a79ba0-f104-4241-a7b5-73ff34995a3f",
    "execution_millis": 3,
    "execution_start": 1604025099808,
    "output_cleared": false,
    "source_hash": "c8a061c8",
    "tags": []
   },
   "outputs": [],
   "source": [
    "# will this work?\n",
    "my_func(2, # inform the devOps team that batch size of 2 is so Cretaceous! \n",
    "        \"GPT2\", \n",
    "        \"-50\")"
   ]
  },
  {
   "cell_type": "code",
   "execution_count": null,
   "metadata": {
    "cell_id": "00014-9a21d472-3c50-4495-8aff-58d150cfa6fb",
    "execution_millis": 0,
    "execution_start": 1604025108620,
    "output_cleared": false,
    "source_hash": "4ab23d8a",
    "tags": []
   },
   "outputs": [],
   "source": [
    "a = 10\n",
    "b = 20\n",
    "c = 30\n",
    "d = 40\n",
    "e = 50"
   ]
  },
  {
   "cell_type": "code",
   "execution_count": null,
   "metadata": {
    "cell_id": "00015-86cf7ab0-e331-498a-b48a-8238739e5dd9",
    "execution_millis": 0,
    "execution_start": 1604025123447,
    "output_cleared": false,
    "source_hash": "6e3fdb20",
    "tags": []
   },
   "outputs": [],
   "source": [
    "if a < b and b*c > a*e and c*a < d*b:\n",
    "    print(\"That condition jungle is confusing!\")"
   ]
  },
  {
   "cell_type": "code",
   "execution_count": null,
   "metadata": {
    "cell_id": "00016-5ebfd276-b4bb-4b00-aed9-8d12a0a12b09",
    "execution_millis": 0,
    "execution_start": 1604025136828,
    "output_cleared": false,
    "source_hash": "edcd4704",
    "tags": []
   },
   "outputs": [],
   "source": [
    "if a < b \\\n",
    "and b*c > a*e \\\n",
    "and c*a < d*b:\n",
    "#you can choose not to indent it as well\n",
    "    print(\"That conditions jungle is confusing!\")"
   ]
  },
  {
   "cell_type": "code",
   "execution_count": null,
   "metadata": {
    "cell_id": "00017-51b5ce40-0fa2-4a95-8082-f8305dcf3730",
    "execution_millis": 2,
    "execution_start": 1604025206054,
    "output_cleared": false,
    "source_hash": "13fa95a0",
    "tags": []
   },
   "outputs": [],
   "source": [
    "if a < b \\\n",
    "and b*c > a*e \\ \n",
    "and c*a < d*b:\n",
    "# Can you tell me why won't this run?\n",
    "    print(\"That conditions jungle is confusing!\")"
   ]
  },
  {
   "cell_type": "code",
   "execution_count": null,
   "metadata": {
    "cell_id": "00018-778e15dc-b04e-4879-8a4b-49cc1b3eb345",
    "execution_millis": 3,
    "execution_start": 1604025222582,
    "output_cleared": false,
    "source_hash": "37d4e132",
    "tags": []
   },
   "outputs": [],
   "source": [
    "a = '''This is a string'''\n",
    "a"
   ]
  },
  {
   "cell_type": "code",
   "execution_count": null,
   "metadata": {
    "cell_id": "00019-37c1b83f-e81c-444e-929b-ff8f1be0354d",
    "execution_millis": 0,
    "execution_start": 1604025238654,
    "output_cleared": false,
    "source_hash": "63b2c044",
    "tags": []
   },
   "outputs": [],
   "source": [
    "a = '''This \n",
    "is a string'''\n",
    "a\n"
   ]
  },
  {
   "cell_type": "markdown",
   "metadata": {
    "cell_id": "00020-2e26d2b1-10a6-4e67-9a66-51cdffb4ba3b",
    "tags": []
   },
   "source": [
    "### Identifier names:\n",
    "* are **case sensitive**. All of these are **different** identifiers:\n",
    "    * my_var\n",
    "    * my_Var\n",
    "    * my_vaR\n",
    "\n",
    "* **must** start with an underscore (_) or letters (a-z, A-Z)\n",
    "    * followed by any number of underscores, letters or digits (0-9)\n",
    "    * all of these are legal names:\n",
    "        * var\n",
    "        * my_var\n",
    "        * index1\n",
    "        * index_1\n",
    "        * _var\n",
    "        * __var\n",
    "        * _\\_lt__\n",
    "* **cannot be reserved words**:\n",
    "    * None, True, False\n",
    "    * and, or, not\n",
    "    * if, else, elif\n",
    "    * for, while, break, continue, pass\n",
    "    * def, lambda, global, nonlocal, return, yield\n",
    "    * del, in, is, assert, class\n",
    "    * try, except, finally, raise\n",
    "    * import, from, with, as\n",
    "\n",
    "\n",
    "\n",
    "## Other Conventions from PEP8 Style Guide\n",
    "\n",
    "* **Packages** - short, all-lowercase names, Preferably no underscores:\n",
    "    * e.g. utilities\n",
    "* **Modules** - short, all-lowercase names, can have underscores:\n",
    "    * e.g. db_utils, dbutils\n",
    "* **Classes** - CapWords (upper camel case) convension:\n",
    "    * e.g. DataAugmentation\n",
    "* **Functions** - lowercase, words separated by underscores (snake_case):\n",
    "    * e.g. reduce_lr_on_plateau\n",
    "* **Variables** - lowercase, words separated by underscores (snake_case):\n",
    "    * e.g. learning_rate\n",
    "* **Constants** - all uppercase, words separated by underscores: \n",
    "    * e.g. BATCH_SIZE\n",
    "\n",
    "\n",
    "## Conditionals\n",
    "\n",
    "if / else / elif"
   ]
  },
  {
   "cell_type": "code",
   "execution_count": null,
   "metadata": {
    "cell_id": "00020-763340b6-ed35-4904-90ad-742f0042de08",
    "execution_millis": 2,
    "execution_start": 1604025424184,
    "output_cleared": false,
    "source_hash": "c51a97a6",
    "tags": []
   },
   "outputs": [],
   "source": [
    "a = 25\n",
    "\n",
    "if a < 5:\n",
    "    b = 'a < 5'\n",
    "else:\n",
    "    b = 'a > 5'\n",
    "print(b)\n"
   ]
  },
  {
   "cell_type": "code",
   "execution_count": null,
   "metadata": {
    "cell_id": "00022-fe6f0214-04a4-48ac-b738-d9a42ffc1be9",
    "execution_millis": 1,
    "execution_start": 1604025470052,
    "output_cleared": false,
    "source_hash": "13eb08b",
    "tags": []
   },
   "outputs": [],
   "source": [
    "# Alternatively\n",
    "\n",
    "b = 'a < 5' if a < 5 else 'a >= 5'\n",
    "print(b)"
   ]
  },
  {
   "cell_type": "code",
   "execution_count": null,
   "metadata": {
    "cell_id": "00023-cf131dfb-5092-4d6f-8545-8fba4fab917b",
    "execution_millis": 1,
    "execution_start": 1604025505471,
    "output_cleared": false,
    "source_hash": "675ba714",
    "tags": []
   },
   "outputs": [],
   "source": [
    "# will this fail\n",
    "\n",
    "k = 5\n",
    "\n",
    "if k > 6 and this_can_literally_be_anything_but_wouldnt_matter:\n",
    "    print (\"This won't work!\")\n",
    "else:\n",
    "    print (\"Man! This is working!\")"
   ]
  },
  {
   "cell_type": "code",
   "execution_count": null,
   "metadata": {
    "cell_id": "00024-d3e51e0a-f7f2-4cad-96e4-f0349075fa8c",
    "execution_millis": 0,
    "execution_start": 1604025552420,
    "output_cleared": false,
    "source_hash": "4f73a861",
    "tags": []
   },
   "outputs": [],
   "source": [
    "# will this fail\n",
    "\n",
    "k = 5\n",
    "\n",
    "if k > 3 or this_can_literally_be_anything_but_wouldnt_matter:\n",
    "    print (\"This will work!\")\n",
    "else:\n",
    "    print (\"This will pakka fail!\")"
   ]
  },
  {
   "cell_type": "markdown",
   "metadata": {
    "cell_id": "00025-7ee55dc6-a22a-4fb1-b5aa-2562f9b626aa",
    "tags": []
   },
   "source": [
    "## Functions\n",
    "\n",
    "* A function is a block of code which only runs when it is called\n",
    "* You can pass data, known as parameters, into a function\n",
    "* A function can return data as a result"
   ]
  },
  {
   "cell_type": "code",
   "execution_count": null,
   "metadata": {
    "cell_id": "00025-8b66f516-817b-4d34-a552-72a4959096cf",
    "execution_millis": 1,
    "execution_start": 1604025658772,
    "output_cleared": false,
    "source_hash": "a823bc0",
    "tags": []
   },
   "outputs": [],
   "source": [
    "s = [1, 2, 3]\n",
    "#build in function\n",
    "len(s)"
   ]
  },
  {
   "cell_type": "code",
   "execution_count": null,
   "metadata": {
    "cell_id": "00027-ccd49e25-adb9-4ad5-ab95-ba9de302795e",
    "execution_millis": 1,
    "execution_start": 1604025667669,
    "output_cleared": false,
    "source_hash": "d9255388",
    "tags": []
   },
   "outputs": [],
   "source": [
    "# importing something specific from a module\n",
    "from math import sqrt\n",
    "\n",
    "sqrt(4)"
   ]
  },
  {
   "cell_type": "code",
   "execution_count": null,
   "metadata": {
    "cell_id": "00028-3c7d5eef-3d01-47cd-834c-fc17d6f2e63a",
    "execution_millis": 1,
    "execution_start": 1604025680784,
    "output_cleared": false,
    "source_hash": "7898cfd6",
    "tags": []
   },
   "outputs": [],
   "source": [
    "# whole module get you access to everything in that module\n",
    "import math\n",
    "math.pi"
   ]
  },
  {
   "cell_type": "code",
   "execution_count": null,
   "metadata": {
    "cell_id": "00029-3f5c36a8-d8d2-45bf-8c46-c75009957830",
    "execution_millis": 3,
    "execution_start": 1604025696072,
    "output_cleared": false,
    "source_hash": "5be5dba1",
    "tags": []
   },
   "outputs": [],
   "source": [
    "# functions are objects that contain some stuff/ our code\n",
    "\n",
    "def func_1():\n",
    "    print(\"running func_1\")\n",
    "\n",
    "# now we can invoke this function, which would run the code inside. \n",
    "\n",
    "# you can't call it like this\n",
    "func_1"
   ]
  },
  {
   "cell_type": "code",
   "execution_count": null,
   "metadata": {
    "cell_id": "00030-4e64a7cf-4ee3-4cc3-af37-b4662435fcb2",
    "execution_millis": 0,
    "execution_start": 1604025718776,
    "output_cleared": false,
    "source_hash": "891749d8",
    "tags": []
   },
   "outputs": [],
   "source": [
    "# function variables\n",
    "\n",
    "def func_2(a, b):\n",
    "    return a*b\n",
    "\n",
    "# you notice types are not defined for Python, \n",
    "# there are no static types in python if you want you can put annotation"
   ]
  },
  {
   "cell_type": "code",
   "execution_count": null,
   "metadata": {
    "cell_id": "00031-77647a94-0288-4e67-b5cf-9aa184f43d62",
    "execution_millis": 3,
    "execution_start": 1604025735515,
    "output_cleared": false,
    "source_hash": "fc4a2d60",
    "tags": []
   },
   "outputs": [],
   "source": [
    "func_2('rohan', 3)"
   ]
  },
  {
   "cell_type": "code",
   "execution_count": null,
   "metadata": {
    "cell_id": "00032-37464be4-f54f-4a78-a6e5-25f48909d260",
    "execution_millis": 36,
    "execution_start": 1604025752496,
    "output_cleared": false,
    "source_hash": "23f95e86",
    "tags": []
   },
   "outputs": [],
   "source": [
    "func_2('rohan', 'rohan')\n"
   ]
  },
  {
   "cell_type": "code",
   "execution_count": null,
   "metadata": {
    "cell_id": "00033-33429447-01ee-40fb-8dbd-4da7812a68ea",
    "execution_millis": 1,
    "execution_start": 1604025782064,
    "output_cleared": false,
    "source_hash": "38cc2d5b",
    "tags": []
   },
   "outputs": [],
   "source": [
    "def func_2(a: int, b: int): # this int is just a documentation think, \n",
    "#has nothing to do with the interpretor\n",
    "    return (a*b)\n",
    "\n",
    "func_2(1.618, 6142)"
   ]
  },
  {
   "cell_type": "code",
   "execution_count": null,
   "metadata": {
    "cell_id": "00034-fa1a5307-3eb2-4819-b52f-e899573bed96",
    "execution_millis": 0,
    "execution_start": 1604025798472,
    "output_cleared": false,
    "source_hash": "5e93719",
    "tags": []
   },
   "outputs": [],
   "source": [
    "# infact we can also pass in a string!\n",
    "func_2('cholbe na! ', 3)"
   ]
  },
  {
   "cell_type": "code",
   "execution_count": null,
   "metadata": {
    "cell_id": "00035-cde24809-2b91-44a8-9937-daa5bf1741fa",
    "execution_millis": 0,
    "execution_start": 1604025869020,
    "output_cleared": false,
    "source_hash": "bf18b85a",
    "tags": []
   },
   "outputs": [],
   "source": [
    "# we can call a list as well!\n",
    "l = ['bilkul bhi cholbe na', 'ekdum bhi cholbe na', 'guaranteed cholbe na']\n",
    "\n",
    "func_2(l, 4)"
   ]
  },
  {
   "cell_type": "markdown",
   "metadata": {
    "cell_id": "00036-25eb1b3e-ca68-4092-9b8f-b328c556aa47",
    "tags": []
   },
   "source": [
    "Above is an example of polymorphism: \n",
    "**Polymorphism** is an object-oriented programming concept that refers to the ability of a variable, \n",
    "Function or object to take on multiple forms\n",
    "\n",
    "This this used to guide a user on how to \"ideally\" use the function"
   ]
  },
  {
   "cell_type": "code",
   "execution_count": null,
   "metadata": {
    "cell_id": "00036-f961f43c-6338-4c17-8072-6b1fbda6fe66",
    "execution_millis": 1,
    "execution_start": 1604025941316,
    "output_cleared": false,
    "source_hash": "da0b9720",
    "tags": []
   },
   "outputs": [],
   "source": [
    "def func_3():\n",
    "    return func_4()\n",
    "\n",
    "def func_4():\n",
    "    return 'running func_4'"
   ]
  },
  {
   "cell_type": "code",
   "execution_count": null,
   "metadata": {
    "cell_id": "00037-547841ce-603b-4c41-b1a2-1894d1107580",
    "execution_millis": 1,
    "execution_start": 1604025963585,
    "output_cleared": false,
    "source_hash": "899c5b01",
    "tags": []
   },
   "outputs": [],
   "source": [
    "func_3()"
   ]
  },
  {
   "cell_type": "code",
   "execution_count": null,
   "metadata": {
    "cell_id": "00039-fb1033c0-4dc1-44b8-9727-100a789edfc7",
    "execution_millis": 0,
    "execution_start": 1604025989000,
    "output_cleared": false,
    "source_hash": "1c1df215",
    "tags": []
   },
   "outputs": [],
   "source": [
    "def func_5():\n",
    "    return func_6()\n",
    "\n",
    "func_5()\n",
    "\n",
    "def func_6():\n",
    "    return 'running func_6'"
   ]
  },
  {
   "cell_type": "markdown",
   "metadata": {
    "cell_id": "00040-b5b1e330-9f26-4261-b812-8a64b3a2a647",
    "tags": []
   },
   "source": [
    "## Lambda Functions"
   ]
  },
  {
   "cell_type": "code",
   "execution_count": null,
   "metadata": {
    "cell_id": "00040-5d36bb48-1a0c-4a33-8290-c33028fa5b56",
    "execution_millis": 1,
    "execution_start": 1604026013428,
    "output_cleared": false,
    "source_hash": "bff2cb14",
    "tags": []
   },
   "outputs": [],
   "source": [
    "type(func_3)"
   ]
  },
  {
   "cell_type": "code",
   "execution_count": null,
   "metadata": {
    "cell_id": "00042-d6354aa7-c5a7-46fc-86e6-646a0dafbab1",
    "execution_millis": 2,
    "execution_start": 1604026024318,
    "output_cleared": false,
    "source_hash": "efbd64c5",
    "tags": []
   },
   "outputs": [],
   "source": [
    "new_func = func_3\n",
    "new_func()"
   ]
  },
  {
   "cell_type": "code",
   "execution_count": null,
   "metadata": {
    "cell_id": "00043-75251db0-db1c-448d-9a1a-7a4403198e0e",
    "execution_millis": 0,
    "execution_start": 1604026055861,
    "output_cleared": false,
    "source_hash": "24312d64",
    "tags": []
   },
   "outputs": [],
   "source": [
    "# lambda function does something similar, but doesn't assign any name. Inline, anonymous, to pass fn\n",
    "\n",
    "lambda x: x **2"
   ]
  },
  {
   "cell_type": "code",
   "execution_count": null,
   "metadata": {
    "cell_id": "00044-ebde982a-4433-4f92-bffd-e7a0a6fdbd32",
    "execution_millis": 0,
    "execution_start": 1604026080979,
    "output_cleared": false,
    "source_hash": "d81ac22a",
    "tags": []
   },
   "outputs": [],
   "source": [
    "fn1 = lambda x: x**2"
   ]
  },
  {
   "cell_type": "code",
   "execution_count": null,
   "metadata": {
    "cell_id": "00045-7d022038-7666-4176-b8df-96538c99d03d",
    "execution_millis": 1,
    "execution_start": 1604026099328,
    "output_cleared": false,
    "source_hash": "7a31eedd",
    "tags": []
   },
   "outputs": [],
   "source": [
    "type(fn1)"
   ]
  },
  {
   "cell_type": "code",
   "execution_count": null,
   "metadata": {
    "cell_id": "00046-4f193783-3413-4227-a144-6303b47516f7",
    "execution_millis": 3,
    "execution_start": 1604026104967,
    "output_cleared": false,
    "source_hash": "64120fa",
    "tags": []
   },
   "outputs": [],
   "source": [
    "fn1(3)"
   ]
  },
  {
   "cell_type": "code",
   "execution_count": null,
   "metadata": {
    "cell_id": "00047-c1a07018-5b8d-43de-9ea4-b6ef3a291b35",
    "execution_millis": 2,
    "execution_start": 1604026124148,
    "output_cleared": false,
    "source_hash": "39a01717",
    "tags": []
   },
   "outputs": [],
   "source": [
    "prnt = lambda : print('Hello world')\n"
   ]
  },
  {
   "cell_type": "code",
   "execution_count": null,
   "metadata": {
    "cell_id": "00048-3c208433-c239-448a-a791-96ff8f5b4cae",
    "execution_millis": 3,
    "execution_start": 1604026129734,
    "output_cleared": false,
    "source_hash": "8521935c",
    "tags": []
   },
   "outputs": [],
   "source": [
    "prnt()"
   ]
  },
  {
   "cell_type": "markdown",
   "metadata": {
    "cell_id": "00049-d09a0dea-cf3b-4d7b-a425-1e82bb571d5c",
    "tags": []
   },
   "source": [
    "## Loops\n",
    "\n",
    "* The while loop\n",
    "* Break, Continue and Try Statement\n",
    "* The for loop\n",
    "* Enumerate"
   ]
  },
  {
   "cell_type": "code",
   "execution_count": null,
   "metadata": {
    "cell_id": "00049-e86f0eb3-e91e-4a30-bb00-a2894d8f3ddc",
    "execution_millis": 2,
    "execution_start": 1604026176752,
    "output_cleared": false,
    "source_hash": "b71bf2d3",
    "tags": []
   },
   "outputs": [],
   "source": [
    "# something which repeats a block of code as long as condition is true\n",
    "\n",
    "i = 0\n",
    "\n",
    "while i < 5:\n",
    "    print(i)\n",
    "    i += 1"
   ]
  },
  {
   "cell_type": "code",
   "execution_count": null,
   "metadata": {
    "cell_id": "00050-3cbf07dc-c3e7-47ce-848a-b1f7430b1f4b",
    "execution_millis": 2,
    "execution_start": 1604026231776,
    "output_cleared": false,
    "source_hash": "b817e50f",
    "tags": []
   },
   "outputs": [],
   "source": [
    "# with i = 5 it won't run, but what if we need it to run at least once?\n",
    "# we  do not have do...while in Python\n",
    "# but we have a very simple alternative\n",
    "\n",
    "\n",
    "\n",
    "i = 5\n",
    "\n",
    "while True: # infinite loop\n",
    "    print(i)\n",
    "    if i >= 5:\n",
    "        break\n",
    "        print(\"I won't even get printed\")\n",
    "\n",
    "\n"
   ]
  },
  {
   "cell_type": "code",
   "execution_count": null,
   "metadata": {
    "cell_id": "00052-82a94580-ddbd-402d-902a-b58c898e8bf3",
    "execution_millis": 17223,
    "execution_start": 1604026297624,
    "output_cleared": false,
    "source_hash": "bb8fba44",
    "tags": []
   },
   "outputs": [],
   "source": [
    "# use case.. we want name which is valid.. 2 chars.. no digits.. etc.. \n",
    "\n",
    "min_length = 2 \n",
    "\n",
    "name = input(\"Please enter your name:\")\n",
    "while not (len(name) >= min_length and name.isprintable() and name.isalpha()):\n",
    "    name = input(\"Please enter your name:\")\n",
    "\n",
    "print(f\"Hello {name}\")"
   ]
  },
  {
   "cell_type": "code",
   "execution_count": null,
   "metadata": {
    "cell_id": "00053-68c7ed78-2863-409c-aeb6-eba24b35d953",
    "execution_millis": 5887,
    "execution_start": 1604026335087,
    "output_cleared": false,
    "source_hash": "762c2edb",
    "tags": []
   },
   "outputs": [],
   "source": [
    "# alternative\n",
    "\n",
    "while True:\n",
    "    name = input(\"Please enter your name:\")\n",
    "\n",
    "    if (len(name) >= min_length and name.isprintable() and name.isalpha()):\n",
    "        break\n",
    "\n",
    "print(f\"Hello {name}\")"
   ]
  },
  {
   "cell_type": "markdown",
   "metadata": {
    "cell_id": "00054-ee72f1a2-70bc-46a3-a653-e61216b74f67",
    "tags": []
   },
   "source": [
    "## Continue statement\n",
    "stops the current iteration and goes back to first line"
   ]
  },
  {
   "cell_type": "code",
   "execution_count": null,
   "metadata": {
    "cell_id": "00054-c4c23e84-612c-4397-bc58-add6d62b0519",
    "execution_millis": 2,
    "execution_start": 1604026366774,
    "output_cleared": false,
    "source_hash": "56c23c24",
    "tags": []
   },
   "outputs": [],
   "source": [
    "a = 0\n",
    "\n",
    "while a < 10:\n",
    "    a += 1\n",
    "    if a%2 == 0:\n",
    "        continue\n",
    "    print(a)"
   ]
  },
  {
   "cell_type": "markdown",
   "metadata": {
    "cell_id": "00056-f1545fd0-e556-4ab0-822c-0a3fb1d501a3",
    "tags": []
   },
   "source": [
    "## Else in while\n",
    "when while ran normally, did not use break, then it will use Else"
   ]
  },
  {
   "cell_type": "code",
   "execution_count": null,
   "metadata": {
    "cell_id": "00056-71425b2e-674b-4fae-b1c4-74120b7c28a4",
    "execution_millis": 1,
    "execution_start": 1604026467688,
    "output_cleared": false,
    "source_hash": "a31ebcb5",
    "tags": []
   },
   "outputs": [],
   "source": [
    "# let's check if 10 is there in the list, if not, add it\n",
    "l = [1, 2, 3]\n",
    "\n",
    "val = 10\n",
    "\n",
    "found = False\n",
    "idx = 0\n",
    "while idx < len(l):\n",
    "    if l[idx] == val:\n",
    "        found = True\n",
    "        break\n",
    "    idx += 1\n",
    "\n",
    "if not found:\n",
    "    l.append(val)\n",
    "print(l)"
   ]
  },
  {
   "cell_type": "code",
   "execution_count": null,
   "metadata": {
    "cell_id": "00058-c7763cbf-abef-468e-9533-acfbebc929a8",
    "execution_millis": 3,
    "execution_start": 1604026506902,
    "output_cleared": false,
    "source_hash": "5e7e7154",
    "tags": []
   },
   "outputs": [],
   "source": [
    "# better way\n",
    "\n",
    "l = [1, 2, 10, 3]\n",
    "val = 10\n",
    "idx = 0\n",
    "\n",
    "while idx < len(l):\n",
    "    if l[idx] == val:\n",
    "        break\n",
    "    idx += 1\n",
    "else: # won't run if break was encountered\n",
    "    l.append(val)\n",
    "print(l)"
   ]
  },
  {
   "cell_type": "markdown",
   "metadata": {
    "cell_id": "00059-cb3c147d-894e-4c7e-b5c5-0b9d9b345028",
    "tags": []
   },
   "source": [
    "## Try, except and Finally"
   ]
  },
  {
   "cell_type": "code",
   "execution_count": null,
   "metadata": {
    "cell_id": "00059-cf956fc6-1352-4766-be56-18edfd81462c",
    "execution_millis": 4,
    "execution_start": 1604026569058,
    "output_cleared": false,
    "source_hash": "25bcbdba",
    "tags": []
   },
   "outputs": [],
   "source": [
    "a = 10\n",
    "b = 0 # then try with 0\n",
    "\n",
    "try:\n",
    "    a/b\n",
    "    print(a/b)\n",
    "except ZeroDivisionError:\n",
    "    print('Dividion by 0')\n",
    "finally:\n",
    "    print('this always executes')"
   ]
  },
  {
   "cell_type": "code",
   "execution_count": null,
   "metadata": {
    "cell_id": "00061-3869e7fd-6afb-405e-ada3-4f11518b9667",
    "execution_millis": 1,
    "execution_start": 1604026628844,
    "output_cleared": false,
    "source_hash": "9275ca2",
    "tags": []
   },
   "outputs": [],
   "source": [
    "a = 0\n",
    "b = 2\n",
    "\n",
    "while a < 4:\n",
    "    print(\"_______________________\")\n",
    "    a += 1\n",
    "    b -= 1\n",
    "    try:\n",
    "        a/b\n",
    "    except ZeroDivisionError:\n",
    "        print(f'division by zero a {a} b {b}')\n",
    "        continue\n",
    "    finally:\n",
    "        print('{0}, {1} - always executes'.format(a, b))\n",
    "    print('{0}, {1} - main loop'.format(a, b))\n",
    "    "
   ]
  },
  {
   "cell_type": "code",
   "execution_count": null,
   "metadata": {
    "cell_id": "00062-bebf56ef-4307-4f77-8dd1-cb6034e789b8",
    "execution_millis": 1,
    "execution_start": 1604026744160,
    "output_cleared": false,
    "source_hash": "7bbc54cf",
    "tags": []
   },
   "outputs": [],
   "source": [
    "# changing break\n",
    "a = 0\n",
    "b = 12 #try for 2\n",
    "\n",
    "while a < 4:\n",
    "    print(\"_______________________\")\n",
    "    a += 1\n",
    "    b -= 1\n",
    "    try:\n",
    "        a/b\n",
    "    except ZeroDivisionError:\n",
    "        print(f'division by zero a {a} b {b}')\n",
    "        break\n",
    "    finally:\n",
    "        print('{0}, {1} - always executes'.format(a, b))\n",
    "    print('{0}, {1} - main loop'.format(a, b))\n",
    "else:\n",
    "    print(\"I did not encounted break\")"
   ]
  },
  {
   "cell_type": "markdown",
   "metadata": {
    "cell_id": "00063-4a466e17-e475-414b-9d79-be7d49fff7a7",
    "tags": []
   },
   "source": [
    "## The For Loop\n",
    "\n",
    "Other languages for(int i = 0; i < 5; i++) {code} but there is no such thing in Python\n",
    "\n",
    "##### In Python, an iterable is an object capable of returning values one at a time\n",
    "There are many objects in Python which are iterable, string, tuple, list, dictionaries\n",
    "In Python for loop gets a value next in the iterable. "
   ]
  },
  {
   "cell_type": "code",
   "execution_count": null,
   "metadata": {
    "cell_id": "00063-e7379b5b-5e2d-4a77-98c3-a9aa219d30ee",
    "execution_millis": 0,
    "execution_start": 1604026778132,
    "output_cleared": false,
    "source_hash": "fbf4436e",
    "tags": []
   },
   "outputs": [],
   "source": [
    "# eqivalent of other for in Python\n",
    "\n",
    "i = 0\n",
    "while i < 5:\n",
    "    print(i)\n",
    "    i += 1\n",
    "i = None"
   ]
  },
  {
   "cell_type": "code",
   "execution_count": null,
   "metadata": {
    "cell_id": "00064-05d1a27f-22ec-4cf9-861f-7ff5cf6c84a4",
    "execution_millis": 0,
    "execution_start": 1604026797224,
    "output_cleared": false,
    "source_hash": "a0180568",
    "tags": []
   },
   "outputs": [],
   "source": [
    "# In Python for loops are there to iterate over iterable. It is more like for_each on other languages\n",
    "for i in range(5):\n",
    "    print(i)"
   ]
  },
  {
   "cell_type": "code",
   "execution_count": null,
   "metadata": {
    "cell_id": "00066-b43b544f-fc44-42e4-993e-9c5b7bc43219",
    "execution_millis": 3,
    "execution_start": 1604026871826,
    "output_cleared": false,
    "source_hash": "cc912aaa",
    "tags": []
   },
   "outputs": [],
   "source": [
    "for i in [1, 2, 3, 4]:\n",
    "    print(i)"
   ]
  },
  {
   "cell_type": "code",
   "execution_count": null,
   "metadata": {
    "cell_id": "00067-ff439193-b0db-4fd9-b3b9-173f4b60c5b3",
    "execution_millis": 1,
    "execution_start": 1604026881308,
    "output_cleared": false,
    "source_hash": "d9efa5da",
    "tags": []
   },
   "outputs": [],
   "source": [
    "for i in 'the school of ai':\n",
    "    print(i)"
   ]
  },
  {
   "cell_type": "code",
   "execution_count": null,
   "metadata": {
    "cell_id": "00068-353c0d2d-e32f-4df3-a42f-bd4a468e029a",
    "execution_millis": 0,
    "execution_start": 1604026907144,
    "output_cleared": false,
    "source_hash": "887aca4e",
    "tags": []
   },
   "outputs": [],
   "source": [
    "for x in [(1, 2), (3, 4), (5, 6)]:\n",
    "    print(x)"
   ]
  },
  {
   "cell_type": "code",
   "execution_count": null,
   "metadata": {
    "cell_id": "00069-102073c0-aedf-401e-8269-ae69ddaf33aa",
    "execution_millis": 2,
    "execution_start": 1604026941755,
    "output_cleared": false,
    "source_hash": "7c925a75",
    "tags": []
   },
   "outputs": [],
   "source": [
    "for x, _ in [(1, 2), (3, 4), (5, 6)]: #unpacking\n",
    "    print(_)"
   ]
  },
  {
   "cell_type": "code",
   "execution_count": null,
   "metadata": {
    "cell_id": "00070-1af6334a-e575-45af-b4a6-937bf2b17929",
    "execution_millis": 1,
    "execution_start": 1604026967364,
    "output_cleared": false,
    "source_hash": "305535a8",
    "tags": []
   },
   "outputs": [],
   "source": [
    "# instead of break try continue below\n",
    "\n",
    "for i in range(5):\n",
    "    if i*2 == 3:\n",
    "        continue\n",
    "    print(i)\n",
    "else:\n",
    "    print(\"i was never 3\")"
   ]
  },
  {
   "cell_type": "code",
   "execution_count": null,
   "metadata": {
    "cell_id": "00071-acb14400-3ccb-4baf-bbcc-e76b8bed45be",
    "execution_millis": 1,
    "execution_start": 1604026999192,
    "output_cleared": false,
    "source_hash": "cd53590b",
    "tags": []
   },
   "outputs": [],
   "source": [
    "s = \"hello\"\n",
    "i = 0\n",
    "for c in s:\n",
    "    print(i, c)\n",
    "    i += 1"
   ]
  },
  {
   "cell_type": "code",
   "execution_count": null,
   "metadata": {
    "cell_id": "00072-d691c341-9537-49f3-b8aa-825e705d4557",
    "execution_millis": 4,
    "execution_start": 1604027021297,
    "output_cleared": false,
    "source_hash": "343f7ee6",
    "tags": []
   },
   "outputs": [],
   "source": [
    "for i in range(len(s)):\n",
    "    print(i, s[i])\n",
    "    "
   ]
  },
  {
   "cell_type": "code",
   "execution_count": null,
   "metadata": {
    "cell_id": "00073-6dd5bcf9-94bc-449c-a5b3-68ee921fd045",
    "execution_millis": 0,
    "execution_start": 1604027043408,
    "output_cleared": false,
    "source_hash": "cc124dea",
    "tags": []
   },
   "outputs": [],
   "source": [
    "# Enumerate\n",
    "s = \"hello\"\n",
    "\n",
    "for i, c in enumerate(s):\n",
    "    print(i, c)"
   ]
  },
  {
   "cell_type": "markdown",
   "metadata": {
    "cell_id": "00074-980919d8-f352-4982-be96-0ad283c01374",
    "tags": []
   },
   "source": [
    "## Classes\n",
    "\n",
    "You should already be familiar with all of this"
   ]
  },
  {
   "cell_type": "code",
   "execution_count": null,
   "metadata": {
    "cell_id": "00074-b2fa4e43-0daa-438e-933b-f39533e978b1",
    "execution_millis": 1,
    "execution_start": 1604027094020,
    "output_cleared": false,
    "source_hash": "4f0b7723",
    "tags": []
   },
   "outputs": [],
   "source": [
    "class Rectangle: # keyword \n",
    "    def __init__(we_can_call_this_anything_but_self_is_convension):   # initializer, runs once an instance/object is created. \n",
    "    # First argument of the method is the object itself\n",
    "        pass"
   ]
  },
  {
   "cell_type": "code",
   "execution_count": null,
   "metadata": {
    "cell_id": "00076-5800ff85-7b2e-4335-8841-513a9a9d9b0b",
    "execution_millis": 1,
    "execution_start": 1604027124392,
    "output_cleared": false,
    "source_hash": "d5a87cf2",
    "tags": []
   },
   "outputs": [],
   "source": [
    "class Rectangle(): # keyword \n",
    "    def __init__(self, x):   # initializer, runs once an instance/object is created. \n",
    "        self.x = x\n",
    "    def area():\n",
    "        return self.x**2\n",
    "    \n",
    "r1 = Rectangle(10)\n",
    "r1.x\n",
    "r2 = Rectangle(100)\n",
    "r2.x\n",
    "r1.x"
   ]
  },
  {
   "cell_type": "code",
   "execution_count": null,
   "metadata": {
    "cell_id": "00077-c7723cda-feab-4642-9c86-bafe00ccff21",
    "execution_millis": 2,
    "execution_start": 1604027262306,
    "output_cleared": false,
    "source_hash": "e41e4d23",
    "tags": []
   },
   "outputs": [],
   "source": [
    "class Rectangle:  \n",
    "    def __init__(self, width, height):\n",
    "        self.width = width\n",
    "        self.height = height\n"
   ]
  },
  {
   "cell_type": "code",
   "execution_count": null,
   "metadata": {
    "cell_id": "00078-c52bc928-305d-4e83-ac41-fc75574ddbc6",
    "execution_millis": 1,
    "execution_start": 1604027273458,
    "output_cleared": false,
    "source_hash": "fcbebabd",
    "tags": []
   },
   "outputs": [],
   "source": [
    "r1 = Rectangle(10, 20)"
   ]
  },
  {
   "cell_type": "code",
   "execution_count": null,
   "metadata": {
    "cell_id": "00079-8dcdb862-eba2-4001-805a-ee944a002158",
    "execution_millis": 2,
    "execution_start": 1604027311797,
    "output_cleared": false,
    "source_hash": "78b4b95e",
    "tags": []
   },
   "outputs": [],
   "source": [
    "# let's add methods\n",
    "class Rectangle:  \n",
    "    def __init__(tsai, width, height):\n",
    "        tsai.width = width #properties\n",
    "        tsai.height = height\n",
    "    def area(tsai): #method\n",
    "        return tsai.width * tsai.height\n",
    "    def perimeter(tsai):\n",
    "        return 2 * (tsai.width + tsai.height)"
   ]
  },
  {
   "cell_type": "code",
   "execution_count": null,
   "metadata": {
    "cell_id": "00080-d141d7f1-cde9-4e51-815e-ce692879fcb1",
    "execution_millis": 3,
    "execution_start": 1604027324412,
    "output_cleared": false,
    "source_hash": "c724bd56",
    "tags": []
   },
   "outputs": [],
   "source": [
    "r1 = Rectangle(10, 20)\n",
    "r1.area()"
   ]
  },
  {
   "cell_type": "code",
   "execution_count": null,
   "metadata": {
    "cell_id": "00081-106b4f9a-e424-4b8f-b298-d2d6c65454db",
    "execution_millis": 0,
    "execution_start": 1604027355712,
    "output_cleared": false,
    "source_hash": "4261269f",
    "tags": []
   },
   "outputs": [],
   "source": [
    "# string representation\n",
    "\n",
    "str(r1)"
   ]
  },
  {
   "cell_type": "code",
   "execution_count": null,
   "metadata": {
    "cell_id": "00082-ef3ac040-da4f-4056-83eb-70a6b55a2665",
    "execution_millis": 0,
    "execution_start": 1604027369300,
    "output_cleared": false,
    "source_hash": "87ddb3d4",
    "tags": []
   },
   "outputs": [],
   "source": [
    "hex(id(r1))"
   ]
  },
  {
   "cell_type": "code",
   "execution_count": null,
   "metadata": {
    "cell_id": "00083-4fe143a9-d38a-47bc-b4ef-a4dcfe67fb4e",
    "execution_millis": 2,
    "execution_start": 1604027451164,
    "output_cleared": false,
    "source_hash": "8e690407",
    "tags": []
   },
   "outputs": [],
   "source": [
    "# we might need a better representation\n",
    "class Rectangle:  \n",
    "    def __init__(tsai, width, height):\n",
    "        tsai.width = width #properties\n",
    "        tsai.height = height\n",
    "    def area(tsai): #method\n",
    "        return tsai.width * tsai.height\n",
    "    def perimeter(tsai):\n",
    "        return 2 * (tsai.width + tsai.height)\n",
    "    def __str__(self):\n",
    "        return 'Rectangle: width={0}, height={1}'.format(self.width, self.height)"
   ]
  },
  {
   "cell_type": "code",
   "execution_count": null,
   "metadata": {
    "cell_id": "00084-85d6d72b-ba3d-4b21-a292-2bd061275007",
    "execution_millis": 2,
    "execution_start": 1604027452768,
    "output_cleared": false,
    "source_hash": "78a0d4c0",
    "tags": []
   },
   "outputs": [],
   "source": [
    "r1 = Rectangle(10, 20)\n",
    "str(r1)"
   ]
  },
  {
   "cell_type": "code",
   "execution_count": null,
   "metadata": {
    "cell_id": "00085-11c2bfe1-4e68-4868-8f30-4fd20fb4e53e",
    "execution_millis": 0,
    "execution_start": 1604027431348,
    "output_cleared": false,
    "source_hash": "f014d449",
    "tags": []
   },
   "outputs": [],
   "source": [
    "# r1.to_string()"
   ]
  },
  {
   "cell_type": "code",
   "execution_count": null,
   "metadata": {
    "cell_id": "00086-02f7e82d-f73a-43c6-83b1-cb7f064096c9",
    "execution_millis": 0,
    "execution_start": 1604027485004,
    "output_cleared": false,
    "source_hash": "e58b6f5e",
    "tags": []
   },
   "outputs": [],
   "source": [
    "class Rectangle:  \n",
    "    def __init__(tsai, width, height):\n",
    "        tsai.width = width #properties\n",
    "        tsai.height = height\n",
    "    def area(tsai): #method\n",
    "        return tsai.width * tsai.height\n",
    "    def perimeter(tsai):\n",
    "        return 2 * (tsai.width + tsai.height)\n",
    "    def __str__(self):\n",
    "        return 'Rectangle: width={0}, height={1}'.format(self.width, self.height)\n",
    "    def __repr__(self):\n",
    "        return 'Rectangle({0}, {1})'.format(self.width, self.height)"
   ]
  },
  {
   "cell_type": "code",
   "execution_count": null,
   "metadata": {
    "cell_id": "00087-beba40d9-6b89-4006-8770-2897fe0d5c47",
    "execution_millis": 3,
    "execution_start": 1604027502220,
    "output_cleared": false,
    "source_hash": "78a0d4c0",
    "tags": []
   },
   "outputs": [],
   "source": [
    "r1 = Rectangle(10, 20)\n",
    "str(r1)"
   ]
  },
  {
   "cell_type": "code",
   "execution_count": null,
   "metadata": {
    "cell_id": "00088-525686b7-3720-4a33-89b5-77c07f5f618a",
    "execution_millis": 2,
    "execution_start": 1604027510169,
    "output_cleared": false,
    "source_hash": "d00caaf0",
    "tags": []
   },
   "outputs": [],
   "source": [
    "r1"
   ]
  },
  {
   "cell_type": "code",
   "execution_count": null,
   "metadata": {
    "cell_id": "00089-d324eb2e-1beb-4b5b-9ba9-d89609c81808",
    "execution_millis": 0,
    "execution_start": 1604027542484,
    "output_cleared": false,
    "source_hash": "ffe9d1e1",
    "tags": []
   },
   "outputs": [],
   "source": [
    "r2 = Rectangle(10, 20)"
   ]
  },
  {
   "cell_type": "code",
   "execution_count": null,
   "metadata": {
    "cell_id": "00090-16a0f460-b5ba-44e8-a2db-89bb4e78da1a",
    "execution_millis": 1,
    "execution_start": 1604027550603,
    "output_cleared": false,
    "source_hash": "3d19995c",
    "tags": []
   },
   "outputs": [],
   "source": [
    "r1 is r2"
   ]
  },
  {
   "cell_type": "code",
   "execution_count": null,
   "metadata": {
    "cell_id": "00091-092e7d45-e162-40c8-85d1-12ebb0e79510",
    "execution_millis": 0,
    "execution_start": 1604027582288,
    "output_cleared": false,
    "source_hash": "ef68ff36",
    "tags": []
   },
   "outputs": [],
   "source": [
    "r1 == r2"
   ]
  },
  {
   "cell_type": "code",
   "execution_count": null,
   "metadata": {
    "cell_id": "00092-cd06739e-97fa-4b03-9cd6-78aee7fb4288",
    "execution_millis": 3,
    "execution_start": 1604027613755,
    "output_cleared": false,
    "source_hash": "5e645fa",
    "tags": []
   },
   "outputs": [],
   "source": [
    "class Rectangle:  \n",
    "    def __init__(tsai, width, height):\n",
    "        tsai.width = width #properties\n",
    "        tsai.height = height\n",
    "    def area(tsai): #method\n",
    "        return tsai.width * tsai.height\n",
    "    def perimeter(tsai):\n",
    "        return 2 * (tsai.width + tsai.height)\n",
    "    def __str__(self):\n",
    "        return 'Rectangle: width={0}, height={1}'.format(self.width, self.height)\n",
    "    def __repr__(self):\n",
    "        return 'Rectangle({0}, {1})'.format(self.width, self.height)\n",
    "    def __eq__(self, other):\n",
    "        return self.width == other.width and self.height == other.height\n",
    "        # or (self.width, self.height) == (other.width, other.height)"
   ]
  },
  {
   "cell_type": "code",
   "execution_count": null,
   "metadata": {
    "cell_id": "00093-f826123a-23ac-46eb-bd9f-83d2d6292196",
    "execution_millis": 7,
    "execution_start": 1604027634770,
    "output_cleared": false,
    "source_hash": "b7ea79da",
    "tags": []
   },
   "outputs": [],
   "source": [
    "r1 = Rectangle(10, 20)\n",
    "r2 = Rectangle(10, 20)\n",
    "r1 == r2"
   ]
  },
  {
   "cell_type": "code",
   "execution_count": null,
   "metadata": {
    "cell_id": "00094-c39a72bd-4c6c-4f01-81fa-5aa14fadcbf1",
    "execution_millis": 3,
    "execution_start": 1604027650243,
    "output_cleared": false,
    "source_hash": "a2606bcc",
    "tags": []
   },
   "outputs": [],
   "source": [
    "r1 == 100"
   ]
  },
  {
   "cell_type": "code",
   "execution_count": null,
   "metadata": {
    "cell_id": "00095-ae2f7909-4ddd-48c2-bef5-06f3108b436f",
    "execution_millis": 1,
    "execution_start": 1604027691272,
    "output_cleared": false,
    "source_hash": "af267616",
    "tags": []
   },
   "outputs": [],
   "source": [
    "class Rectangle:  \n",
    "    def __init__(tsai, width, height):\n",
    "        tsai.width = width #properties\n",
    "        tsai.height = height\n",
    "    def area(tsai): #method\n",
    "        return tsai.width * tsai.height\n",
    "    def perimeter(tsai):\n",
    "        return 2 * (tsai.width + tsai.height)\n",
    "    def __str__(self):\n",
    "        return 'Rectangle: width={0}, height={1}'.format(self.width, self.height)\n",
    "    def __repr__(self):\n",
    "        return 'Rectangle({0}, {1})'.format(self.width, self.height)\n",
    "    def __eq__(self, other):\n",
    "        if isinstance(other, Rectangle):\n",
    "            return self.width == other.width and self.height == other.height\n",
    "        else:\n",
    "            return False\n",
    "    def __lt__(self, other):\n",
    "        if isinstance(other, Rectangle):\n",
    "            return self.area() < other.area()\n",
    "        else:\n",
    "            return NotImplemented"
   ]
  },
  {
   "cell_type": "code",
   "execution_count": null,
   "metadata": {
    "cell_id": "00096-5923a2c4-bd5c-4bcc-af55-505e3377ebf3",
    "execution_millis": 0,
    "execution_start": 1604027715157,
    "output_cleared": false,
    "source_hash": "55deb090",
    "tags": []
   },
   "outputs": [],
   "source": [
    "r1 = Rectangle(10, 20)\n",
    "r2 = Rectangle(10, 20)\n",
    "\n",
    "r1 == 100"
   ]
  },
  {
   "cell_type": "code",
   "execution_count": null,
   "metadata": {
    "cell_id": "00097-99bd616d-ea24-41f4-b120-9ce134512049",
    "execution_millis": 5,
    "execution_start": 1604027727785,
    "output_cleared": false,
    "source_hash": "ccf291c6",
    "tags": []
   },
   "outputs": [],
   "source": [
    "r1 < r2"
   ]
  },
  {
   "cell_type": "code",
   "execution_count": null,
   "metadata": {
    "cell_id": "00098-661e1ddd-e409-4d7b-ba18-d0167dc36765",
    "execution_millis": 1,
    "execution_start": 1604027737648,
    "output_cleared": false,
    "source_hash": "fb4f9078",
    "tags": []
   },
   "outputs": [],
   "source": [
    "r1 > r2"
   ]
  },
  {
   "cell_type": "code",
   "execution_count": null,
   "metadata": {
    "cell_id": "00099-6546ef87-7439-4c00-a8cb-cc569a84eb8c",
    "execution_millis": 0,
    "execution_start": 1604027774419,
    "output_cleared": false,
    "source_hash": "23b598f0",
    "tags": []
   },
   "outputs": [],
   "source": [
    "# properties\n",
    "class Rectangle:  \n",
    "    def __init__(tsai, width, height):\n",
    "        tsai.width = width #properties\n",
    "        tsai.height = height\n",
    "    def area(tsai): #method\n",
    "        return tsai.width * tsai.height\n",
    "    def perimeter(tsai):\n",
    "        return 2 * (tsai.width + tsai.height)\n",
    "    def __str__(self):\n",
    "        return 'Rectangle: width={0}, height={1}'.format(self.width, self.height)\n",
    "    def __repr__(self):\n",
    "        return 'Rectangle({0}, {1})'.format(self.width, self.height)"
   ]
  },
  {
   "cell_type": "code",
   "execution_count": null,
   "metadata": {
    "cell_id": "00100-50b2161e-276a-49c4-8e1f-d067c7a795dc",
    "execution_millis": 1,
    "execution_start": 1604027790552,
    "output_cleared": false,
    "source_hash": "93e3b354",
    "tags": []
   },
   "outputs": [],
   "source": [
    "r1 = Rectangle(10, 20)\n",
    "r1.width = 100\n"
   ]
  },
  {
   "cell_type": "code",
   "execution_count": null,
   "metadata": {
    "cell_id": "00101-2d3ad7ca-a227-40a1-8719-b7b0d691dafb",
    "execution_millis": 1,
    "execution_start": 1604027801506,
    "output_cleared": false,
    "source_hash": "7ffc69bc",
    "tags": []
   },
   "outputs": [],
   "source": [
    "r1.width = -100"
   ]
  },
  {
   "cell_type": "code",
   "execution_count": null,
   "metadata": {
    "cell_id": "00102-5f0e483e-3307-49ea-a57f-3911db361771",
    "execution_millis": 0,
    "execution_start": 1604027935001,
    "output_cleared": false,
    "source_hash": "d75c761",
    "tags": []
   },
   "outputs": [],
   "source": [
    "# convention\n",
    "class Rectangle:  \n",
    "    def __init__(self, width, height):\n",
    "        self._width = width #pseudo private\n",
    "        self._height = height\n",
    "\n",
    "    def get_width(self):\n",
    "        return self._width\n",
    "\n",
    "    def set_width(self, width):\n",
    "        if width <=0:\n",
    "            raise ValueError(\"Width must be positive\")\n",
    "        else:\n",
    "            self._width = width\n",
    "\n",
    "    def get_height(self):\n",
    "        return self._height\n",
    "    \n",
    "    def set_height(self, height):\n",
    "        if height <=0:\n",
    "            raise ValueError(\"Width must be positive\")\n",
    "        else:\n",
    "            self._height = height\n",
    "\n",
    "    def area(self): #method\n",
    "        return swlf._width * swlf._height\n",
    "\n",
    "    def perimeter(swlf):\n",
    "        return 2 * (tsai._width + tsai._height)\n",
    "    \n",
    "    def __str__(self):\n",
    "        return 'Rectangle: width={0}, height={1}'.format(self._width, self._height)\n",
    "\n",
    "    def __eq__(self, other):\n",
    "        if isinstance(other, Rectangle):\n",
    "            return self._width == other._width and self._height == other._height\n",
    "        else:\n",
    "            return False"
   ]
  },
  {
   "cell_type": "code",
   "execution_count": null,
   "metadata": {
    "cell_id": "00103-d8be750b-7cb5-4859-be5c-23f292dbc004",
    "execution_millis": 0,
    "execution_start": 1604027955012,
    "output_cleared": false,
    "source_hash": "a2edef2",
    "tags": []
   },
   "outputs": [],
   "source": [
    "r1 = Rectangle(10, 20)\n",
    "r1.width = -100\n",
    "r1.donald_trump = 'Donald Trump'\n"
   ]
  },
  {
   "cell_type": "code",
   "execution_count": null,
   "metadata": {
    "cell_id": "00104-57e8ff2d-4e7b-49d7-bef1-f2cdf023b118",
    "execution_millis": 1,
    "execution_start": 1604027964280,
    "output_cleared": false,
    "source_hash": "56b654d8",
    "tags": []
   },
   "outputs": [],
   "source": [
    "print(r1._width)\n",
    "print(r1.width)\n",
    "r1.get_width()"
   ]
  },
  {
   "cell_type": "code",
   "execution_count": null,
   "metadata": {
    "cell_id": "00105-bb600dd4-f7c2-403c-8a7b-99632182b5f0",
    "execution_millis": 1,
    "execution_start": 1604028039340,
    "output_cleared": false,
    "source_hash": "f78c62b7",
    "tags": []
   },
   "outputs": [],
   "source": [
    "# without breaking the compatibility ??\n",
    "class Rectangle:  \n",
    "    def __init__(self, width, height):\n",
    "        self._width = width #properties\n",
    "        self._height = height\n",
    "\n",
    "    @property\n",
    "    def width(self):\n",
    "        return self._width\n",
    "    \n",
    "    @property\n",
    "    def height(self):\n",
    "        return self._height\n",
    "\n",
    "    def area(self): #method\n",
    "        return self.width * self.height\n",
    "    def perimeter(self):\n",
    "        return 2 * (self.width + self.height)\n",
    "    def __str__(self):\n",
    "        return 'Rectangle: width={0}, height={1}'.format(self.width, self.height)\n",
    "    def __repr__(self):\n",
    "        return 'Rectangle({0}, {1})'.format(self.width, self.height)\n",
    "    def __eq__(self, other):\n",
    "        if isinstance(other, Rectangle):\n",
    "            return self.width == other.width and self.height == other.height\n",
    "        else:\n",
    "            return False"
   ]
  },
  {
   "cell_type": "code",
   "execution_count": null,
   "metadata": {
    "cell_id": "00106-a0d201dc-7420-4bf0-8441-8460f4e1a932",
    "execution_millis": 1,
    "execution_start": 1604028098997,
    "output_cleared": false,
    "source_hash": "7117153e",
    "tags": []
   },
   "outputs": [],
   "source": [
    "r1 = Rectangle(10, 20)\n",
    "r1._width = 20\n",
    "r1.width"
   ]
  },
  {
   "cell_type": "code",
   "execution_count": null,
   "metadata": {
    "cell_id": "00107-1201dde6-43ba-4108-87a7-5925b7a52cf7",
    "execution_millis": 1,
    "execution_start": 1604028129482,
    "output_cleared": false,
    "source_hash": "5a2f3d82",
    "tags": []
   },
   "outputs": [],
   "source": [
    "class Rectangle:  \n",
    "    def __init__(self, width, height):\n",
    "        self._width = width #properties\n",
    "        self._height = height\n",
    "\n",
    "    @property\n",
    "    def width(self):\n",
    "        return self._width\n",
    "\n",
    "    @width.setter\n",
    "    def width(self, width):\n",
    "        if width <=0:\n",
    "            raise ValueError(\"Width must be positive\")\n",
    "        else:\n",
    "            self._width = width\n",
    "\n",
    "    \n",
    "    @property\n",
    "    def height(self):\n",
    "        return self._height\n",
    "\n",
    "    @height.setter\n",
    "    def height(self, height):\n",
    "        if height <=0:\n",
    "            raise ValueError(\"Height must be positive\")\n",
    "        else:\n",
    "            self._height = height\n",
    "\n",
    "    def __str__(self):\n",
    "        return 'Rectangle: width={0}, height={1}'.format(self.width, self.height)\n",
    "    def __repr__(self):\n",
    "        return 'Rectangle({0}, {1})'.format(self.width, self.height)\n"
   ]
  },
  {
   "cell_type": "code",
   "execution_count": null,
   "metadata": {
    "cell_id": "00108-d12677ad-55d7-4b40-b5d0-2591d5958243",
    "execution_millis": 1,
    "execution_start": 1604028149124,
    "output_cleared": false,
    "source_hash": "c9f7f3b9",
    "tags": []
   },
   "outputs": [],
   "source": [
    "r1 = Rectangle(10, 20)\n",
    "r1.width = 20\n",
    "r1.width"
   ]
  },
  {
   "cell_type": "code",
   "execution_count": null,
   "metadata": {
    "cell_id": "00109-0defa2be-e0dd-47d8-84fd-ddce4ed6b1da",
    "execution_millis": 1,
    "execution_start": 1604028212796,
    "output_cleared": false,
    "source_hash": "7ef59a0",
    "tags": []
   },
   "outputs": [],
   "source": [
    "my_var = 10 # 10 is saved somewhere is memory, and my_var is a reference to 10\n",
    "print(my_var) # what just happened, python looked at my_var.. then it looked at what my_var\n",
    "# is refencing, it found that memory address, it went to the memory\n",
    "# retreived the data from the memory and brought it back so we can display it in our code"
   ]
  },
  {
   "cell_type": "code",
   "execution_count": null,
   "metadata": {
    "cell_id": "00110-a69997bc-cf72-455e-8bac-70be4358f3b5",
    "execution_millis": 2,
    "execution_start": 1604028223226,
    "output_cleared": false,
    "source_hash": "c340db55",
    "tags": []
   },
   "outputs": [],
   "source": [
    "id(1)"
   ]
  },
  {
   "cell_type": "code",
   "execution_count": null,
   "metadata": {
    "cell_id": "00111-d530ad4d-a78d-46a6-bda4-111623ce285c",
    "execution_millis": 2,
    "execution_start": 1604028240006,
    "output_cleared": false,
    "source_hash": "a46b4469",
    "tags": []
   },
   "outputs": [],
   "source": [
    "id(my_var)"
   ]
  },
  {
   "cell_type": "code",
   "execution_count": null,
   "metadata": {
    "cell_id": "00112-7c7a1053-7fab-4d07-b5b0-c875a3f9d6eb",
    "execution_millis": 1,
    "execution_start": 1604028271768,
    "output_cleared": false,
    "source_hash": "3be00638",
    "tags": []
   },
   "outputs": [],
   "source": [
    "my_list = [1, 2, 3]"
   ]
  },
  {
   "cell_type": "code",
   "execution_count": null,
   "metadata": {
    "cell_id": "00113-226c7ddc-071a-4be7-bb34-884e0645986f",
    "execution_millis": 0,
    "execution_start": 1604028282414,
    "output_cleared": false,
    "source_hash": "d9a24fbb",
    "tags": []
   },
   "outputs": [],
   "source": [
    "id(my_list)"
   ]
  },
  {
   "cell_type": "code",
   "execution_count": null,
   "metadata": {
    "cell_id": "00114-3968380b-0270-4585-8403-25e139baa628",
    "execution_millis": 0,
    "execution_start": 1604028304341,
    "output_cleared": false,
    "source_hash": "a527e549",
    "tags": []
   },
   "outputs": [],
   "source": [
    "my_list.append(4)\n",
    "id(my_list)"
   ]
  },
  {
   "cell_type": "code",
   "execution_count": null,
   "metadata": {
    "cell_id": "00115-621db9a4-8508-46d3-ac29-ebdfdc616690",
    "execution_millis": 1,
    "execution_start": 1604028357724,
    "output_cleared": false,
    "source_hash": "7f9de7d1",
    "tags": []
   },
   "outputs": [],
   "source": [
    "def process(s):\n",
    "    print(f'Initial s mem-add = {id(s)}')\n",
    "    s = s + ' world' # concatenating\n",
    "    print(f'Final s mem-add = {id(s)}')"
   ]
  },
  {
   "cell_type": "code",
   "execution_count": null,
   "metadata": {
    "cell_id": "00116-2edba4cc-eb46-44f3-86fc-40b644ebbe60",
    "execution_millis": 3,
    "execution_start": 1604028387901,
    "output_cleared": false,
    "source_hash": "b6c1c6d0",
    "tags": []
   },
   "outputs": [],
   "source": [
    "my_var = 'hello'\n",
    "print(f'my_var mem-add = {id(my_var)}')\n",
    "process(my_var)"
   ]
  },
  {
   "cell_type": "code",
   "execution_count": null,
   "metadata": {
    "cell_id": "00117-9a932acd-0e72-4bfd-b2b9-fd1920cdc398",
    "execution_millis": 1,
    "execution_start": 1604028459476,
    "output_cleared": false,
    "source_hash": "c746e414",
    "tags": []
   },
   "outputs": [],
   "source": [
    "def modify_list(lst):\n",
    "    print(f'Initial lst mem-add = {id(lst)}')\n",
    "    lst.append(100)\n",
    "    print(f'Final lst mem-add = {id(lst)}')\n",
    "\n",
    "my_list = [1, 2, 3]\n",
    "print(my_list)\n",
    "print(f'my_list mem-add = {id(my_list)}')\n",
    "modify_list(my_list)\n",
    "print(my_list)\n",
    "print(f'my_list mem-add = {id(my_list)}')\n"
   ]
  },
  {
   "cell_type": "code",
   "execution_count": null,
   "metadata": {
    "cell_id": "00118-9d878862-4d73-4768-8713-3d66540f2572",
    "execution_millis": 0,
    "execution_start": 1604028561985,
    "output_cleared": false,
    "source_hash": "428a74ef",
    "tags": []
   },
   "outputs": [],
   "source": [
    "def my_func(a, b, c):\n",
    "    print(f'a = {a}, b = {b}, c = {c}')\n",
    "my_func(1, 2, 3)"
   ]
  },
  {
   "cell_type": "code",
   "execution_count": null,
   "metadata": {
    "cell_id": "00119-68a1a0d9-663e-4525-92dc-eab3f0a30cf0",
    "execution_millis": 0,
    "execution_start": 1604028573323,
    "output_cleared": false,
    "source_hash": "ff040b79",
    "tags": []
   },
   "outputs": [],
   "source": [
    "my_func(1, 2)"
   ]
  },
  {
   "cell_type": "code",
   "execution_count": null,
   "metadata": {
    "cell_id": "00120-10ac161f-3379-41cb-b4b6-4dc47b93a87f",
    "execution_millis": 0,
    "execution_start": 1604028609416,
    "output_cleared": false,
    "source_hash": "376716a7",
    "tags": []
   },
   "outputs": [],
   "source": [
    "def my_func(a, b = 2, c):\n",
    "    print(f'a = {a}, b = {b}, c = {c}')\n",
    "\n"
   ]
  },
  {
   "cell_type": "code",
   "execution_count": null,
   "metadata": {
    "cell_id": "00121-a6769977-b232-467d-a683-f73fafb11db2",
    "execution_millis": 1,
    "execution_start": 1604028631552,
    "output_cleared": false,
    "source_hash": "69b82d8",
    "tags": []
   },
   "outputs": [],
   "source": [
    "# every param after default param must have default pararm\n",
    "\n",
    "def my_func(a, b = 2, c = 3):\n",
    "    print(f'a = {a}, b = {b}, c = {c}')"
   ]
  },
  {
   "cell_type": "code",
   "execution_count": null,
   "metadata": {
    "cell_id": "00122-e6ca2dc3-8848-476d-a2fd-48d280c8b000",
    "execution_millis": 0,
    "execution_start": 1604028651933,
    "output_cleared": false,
    "source_hash": "bf44892e",
    "tags": []
   },
   "outputs": [],
   "source": [
    "my_func(10, 20, 30), my_func(10, 20), my_func(10)"
   ]
  },
  {
   "cell_type": "code",
   "execution_count": null,
   "metadata": {
    "cell_id": "00123-f603fc2a-403b-4155-9362-7ff8a584c842",
    "execution_millis": 1,
    "execution_start": 1604028679468,
    "output_cleared": false,
    "source_hash": "877d962b",
    "tags": []
   },
   "outputs": [],
   "source": [
    "# Keyword arguments\n",
    "\n",
    "def my_func(a, b = 2, c = 3):\n",
    "    print(f'a = {a}, b = {b}, c = {c}')\n",
    "\n",
    "my_func(c = 30, b = 20, a = 10) #order does not matter, names must match"
   ]
  },
  {
   "cell_type": "code",
   "execution_count": null,
   "metadata": {
    "cell_id": "00124-5531213d-121c-4238-bc72-6d61a6387c6e",
    "execution_millis": 1,
    "execution_start": 1604028710696,
    "output_cleared": false,
    "source_hash": "f9050a9d",
    "tags": []
   },
   "outputs": [],
   "source": [
    "my_func(30, b = 20, c = 10), my_func(10, c = 30)"
   ]
  },
  {
   "cell_type": "code",
   "execution_count": null,
   "metadata": {
    "cell_id": "00125-eb3355ea-4062-48de-95df-59fe66b480c1",
    "execution_millis": 0,
    "execution_start": 1604028740540,
    "output_cleared": false,
    "source_hash": "d3aff097",
    "tags": []
   },
   "outputs": [],
   "source": [
    "a, b, c = [1, 2, 'a']"
   ]
  },
  {
   "cell_type": "code",
   "execution_count": null,
   "metadata": {
    "cell_id": "00126-c4e7536d-2e4c-43e1-874a-73b470857db9",
    "execution_millis": 3,
    "execution_start": 1604028774698,
    "output_cleared": false,
    "source_hash": "77334588",
    "tags": []
   },
   "outputs": [],
   "source": [
    "a, b, *c = [1, 1, 2, 3, 4, 5, 6, 'a', '1']\n",
    "\n",
    "c"
   ]
  },
  {
   "cell_type": "code",
   "execution_count": null,
   "metadata": {
    "cell_id": "00127-dafb3feb-7952-47be-8c0f-1bdb82379ffa",
    "execution_millis": 1,
    "execution_start": 1604028818173,
    "output_cleared": false,
    "source_hash": "7c9cbb43",
    "tags": []
   },
   "outputs": [],
   "source": [
    "a =1\n",
    "b = 3\n",
    "a, b = b, a\n",
    "\n",
    "a, b"
   ]
  },
  {
   "cell_type": "code",
   "execution_count": null,
   "metadata": {
    "cell_id": "00128-8ab2613d-db64-4605-8671-1e806b69d8cd",
    "execution_millis": 1,
    "execution_start": 1604028848196,
    "output_cleared": false,
    "source_hash": "9e64dc98",
    "tags": []
   },
   "outputs": [],
   "source": [
    "(a, b, c) = (1*4, 'a'*3, 3.14/3.14) #right hand side gets evaluated first and gets assigned to a temp tuple in the memory and then it gets used\n",
    "print(f'a = {a}, b = {b}, c = {c}')"
   ]
  },
  {
   "cell_type": "code",
   "execution_count": null,
   "metadata": {
    "cell_id": "00129-85bf8eb1-8b5d-4474-bafa-ad050845118f",
    "execution_millis": 1,
    "execution_start": 1604028979942,
    "output_cleared": false,
    "source_hash": "280ef50c",
    "tags": []
   },
   "outputs": [],
   "source": [
    "c = [1, 2, 3, 4, 5]\n",
    "\n",
    "a, b, *d = c\n",
    "\n",
    "a, b, d"
   ]
  },
  {
   "cell_type": "code",
   "execution_count": null,
   "metadata": {
    "cell_id": "00129-d7410a3e-6c8a-4def-94cc-15e574ae6da4",
    "execution_millis": 1,
    "execution_start": 1604029041904,
    "output_cleared": false,
    "source_hash": "7323c693",
    "tags": []
   },
   "outputs": [],
   "source": [
    "d1 = {'p': 1, 'y': 2}\n",
    "d2 = {'t': 3, 'h': 4}\n",
    "d3 = {'h': 5, 'o': 6, 'n': 7}\n",
    "d = {**d1, **d2, **d3}\n",
    "d"
   ]
  },
  {
   "cell_type": "code",
   "execution_count": null,
   "metadata": {
    "cell_id": "00131-82704681-8918-4fa8-bcdf-c3646c6d0bc5",
    "execution_millis": 0,
    "execution_start": 1604029067884,
    "output_cleared": false,
    "source_hash": "e738ebce",
    "tags": []
   },
   "outputs": [],
   "source": [
    "l = [1, 2, 3, 4, 5, 6]\n",
    "a = l[0]\n",
    "b = l[1:]\n",
    "b"
   ]
  },
  {
   "cell_type": "code",
   "execution_count": null,
   "metadata": {
    "cell_id": "00132-1534b0b0-63e3-4b77-acff-39aed6a23785",
    "execution_millis": 3,
    "execution_start": 1604029091060,
    "output_cleared": false,
    "source_hash": "61fa1925",
    "tags": []
   },
   "outputs": [],
   "source": [
    "l = [1, 2, 3, 4, 5, 6]\n",
    "a, *b = l\n",
    "print(f'a is {a} and b is {b}')"
   ]
  },
  {
   "cell_type": "code",
   "execution_count": null,
   "metadata": {
    "cell_id": "00133-6da66ad1-9b1f-41d6-8cd0-40ea27604b98",
    "execution_millis": 0,
    "execution_start": 1604029142406,
    "output_cleared": false,
    "source_hash": "36ddb12",
    "tags": []
   },
   "outputs": [],
   "source": [
    "l1 = [1, 2, 3]\n",
    "l2 = [3, 4, 5, 6]\n",
    "l3 = [*l1, *l2]\n",
    "l3"
   ]
  },
  {
   "cell_type": "code",
   "execution_count": null,
   "metadata": {
    "cell_id": "00134-5b0c2569-c050-4adf-8e8f-a0c66997a523",
    "execution_millis": 1,
    "execution_start": 1604029156937,
    "output_cleared": false,
    "source_hash": "8844ca4a",
    "tags": []
   },
   "outputs": [],
   "source": [
    "d1 = {'p': 1, 'y': 2}\n",
    "d2 = {'t': 3, 'h': 4}\n",
    "d3 = {'p': 5, 'o': 6, 'n': 7}\n",
    "d = {**d1, **d2, **d3}\n",
    "d"
   ]
  },
  {
   "cell_type": "code",
   "execution_count": null,
   "metadata": {
    "cell_id": "00135-415defa0-5277-464a-900e-56a346bf9a9d",
    "execution_millis": 3,
    "execution_start": 1604029199062,
    "output_cleared": false,
    "source_hash": "3a8314a2",
    "tags": []
   },
   "outputs": [],
   "source": [
    "s1 = 'abc'\n",
    "s2 = 'def'\n",
    "[*s1, *s2]"
   ]
  },
  {
   "cell_type": "code",
   "execution_count": null,
   "metadata": {
    "cell_id": "00136-df9a977c-710e-45cc-9912-daf3eb5c1419",
    "execution_millis": 0,
    "execution_start": 1604029287162,
    "output_cleared": false,
    "source_hash": "474235d7",
    "tags": []
   },
   "outputs": [],
   "source": [
    "d1 = {'key1': 100, 'key2': 200}\n",
    "d2 =  {'key3': 200, 'key4': 300}\n",
    "\n",
    "{**d1, **d2}"
   ]
  },
  {
   "cell_type": "code",
   "execution_count": null,
   "metadata": {
    "cell_id": "00137-ee495af7-2f46-46aa-81bf-a41e5f9cbd8b",
    "execution_millis": 1,
    "execution_start": 1604029383695,
    "output_cleared": false,
    "source_hash": "71143b94",
    "tags": []
   },
   "outputs": [],
   "source": [
    "def my_func(a, b, *c):\n",
    "    print(a, b, c)\n",
    "\n",
    "my_func(10, 20), my_func(10, 20, 30, 4, 2, 'rohan', [11231, '12'])"
   ]
  },
  {
   "cell_type": "code",
   "execution_count": null,
   "metadata": {
    "cell_id": "00138-a8f962bd-7bae-4745-bd13-6da55e1a0140",
    "execution_millis": 1,
    "execution_start": 1604029436796,
    "output_cleared": false,
    "source_hash": "89e1c1ad",
    "tags": []
   },
   "outputs": [],
   "source": [
    "def my_func(a, b, *args):\n",
    "    print(a, b, args)"
   ]
  },
  {
   "cell_type": "code",
   "execution_count": null,
   "metadata": {
    "cell_id": "00139-5b9c6a8d-e2b2-4403-9187-f9ed0a098d72",
    "execution_millis": 1,
    "execution_start": 1604029521500,
    "output_cleared": false,
    "source_hash": "876eecd7",
    "tags": []
   },
   "outputs": [],
   "source": [
    "def avg(*args):\n",
    "    count = len(args)\n",
    "    total = sum(args)\n",
    "    return total/count\n",
    "\n",
    "avg(10, 20, 30)"
   ]
  },
  {
   "cell_type": "code",
   "execution_count": null,
   "metadata": {
    "cell_id": "00140-0444c9b9-0987-4219-8a11-5f080b95e542",
    "execution_millis": 9,
    "execution_start": 1604029815402,
    "output_cleared": false,
    "source_hash": "7a13a5fd",
    "tags": []
   },
   "outputs": [],
   "source": [
    "def func(a, b, *args, d, e, **f):\n",
    "    print(a, b, args, d, e, f)"
   ]
  },
  {
   "cell_type": "code",
   "execution_count": null,
   "metadata": {
    "cell_id": "00141-c6b773bf-b66b-4b73-be7c-35e392a3da05",
    "execution_millis": 1,
    "execution_start": 1604029857116,
    "output_cleared": false,
    "source_hash": "b638593f",
    "tags": []
   },
   "outputs": [],
   "source": [
    "func(10, 20, 30, 40, d =45, e = 45, p = 100, t = 200)"
   ]
  },
  {
   "cell_type": "code",
   "execution_count": null,
   "metadata": {
    "cell_id": "00142-37ad5921-5479-40cd-bf23-48bad5554674",
    "execution_millis": 0,
    "execution_start": 1604029883612,
    "output_cleared": false,
    "source_hash": "6e6a8754",
    "tags": []
   },
   "outputs": [],
   "source": [
    "def func(**others):\n",
    "    print(others)\n",
    "\n",
    "func(a = 1, b = 2, c = 3)"
   ]
  },
  {
   "cell_type": "code",
   "execution_count": null,
   "metadata": {
    "cell_id": "00143-4942464f-561a-4d7a-b1b9-15160533d739",
    "execution_millis": 3,
    "execution_start": 1604029928797,
    "output_cleared": false,
    "source_hash": "d137a723",
    "tags": []
   },
   "outputs": [],
   "source": [
    "def func(*args, **kwargs):\n",
    "    print(args, kwargs)\n",
    "\n",
    "func(10, 20 , 30 , a = 1, b = 2, c = 3)"
   ]
  },
  {
   "cell_type": "code",
   "execution_count": null,
   "metadata": {
    "cell_id": "00144-03e556d8-4101-443e-9729-94aedb078153",
    "execution_millis": 6,
    "execution_start": 1604030073277,
    "output_cleared": false,
    "source_hash": "f41c04d9",
    "tags": []
   },
   "outputs": [],
   "source": [
    "l = [x**2 for x in range(10) if x%2 == 0]\n",
    "l"
   ]
  },
  {
   "cell_type": "code",
   "execution_count": null,
   "metadata": {
    "cell_id": "00145-d533f579-dd76-4874-83ff-3135fc738ac9",
    "tags": []
   },
   "outputs": [],
   "source": [
    "Write a function using only list filter lambda that can tell whether a number is a Fibonacci number or not. \n",
    "You can use a pre-calculated list/dict to store fab numbers till 10000 PTS:100"
   ]
  },
  {
   "cell_type": "code",
   "execution_count": 2,
   "metadata": {},
   "outputs": [],
   "source": [
    "from tqdm import tqdm as tqdm"
   ]
  },
  {
   "cell_type": "code",
   "execution_count": 3,
   "metadata": {},
   "outputs": [
    {
     "name": "stderr",
     "output_type": "stream",
     "text": [
      "29it [00:00, 119.06it/s]\n"
     ]
    }
   ],
   "source": [
    "def Fibonacci(n):\n",
    "    if n<=0:\n",
    "        print(\"Incorrect input\")\n",
    "    # First Fibonacci number is 0\n",
    "    elif n==1:\n",
    "        return 0\n",
    "    # Second Fibonacci number is 1\n",
    "    elif n==2:\n",
    "        return 1\n",
    "    else:\n",
    "        return Fibonacci(n-1)+Fibonacci(n-2)\n",
    "fib_series = [{index:Fibonacci(value)} for index,value in tqdm(enumerate(range(1,30)))]"
   ]
  },
  {
   "cell_type": "code",
   "execution_count": 27,
   "metadata": {},
   "outputs": [],
   "source": [
    "# test_list = [i for i in range(0,10)]\n",
    "# result = list(filter(lambda x : (x % 2 == 0), test_list))\n",
    "# result\n",
    "\n",
    "# my_list = [\"geeks\", \"geeg\", \"keek\", \"practice\", \"aa\"] \n",
    "# result = list(filter(lambda x : (x == \"\".join(reversed(x))),my_list))\n",
    "# result"
   ]
  },
  {
   "cell_type": "code",
   "execution_count": 19,
   "metadata": {},
   "outputs": [
    {
     "data": {
      "text/plain": [
       "['geeg', 'keek', 'aa']"
      ]
     },
     "execution_count": 19,
     "metadata": {},
     "output_type": "execute_result"
    }
   ],
   "source": []
  },
  {
   "cell_type": "code",
   "execution_count": 24,
   "metadata": {},
   "outputs": [
    {
     "name": "stdout",
     "output_type": "stream",
     "text": [
      "Enter the numern 20\n"
     ]
    },
    {
     "data": {
      "text/plain": [
       "['Incorrect input',\n",
       " 0,\n",
       " 1,\n",
       " 1,\n",
       " 2,\n",
       " 3,\n",
       " 5,\n",
       " 8,\n",
       " 13,\n",
       " 21,\n",
       " 34,\n",
       " 55,\n",
       " 89,\n",
       " 144,\n",
       " 233,\n",
       " 377,\n",
       " 610,\n",
       " 987,\n",
       " 1597,\n",
       " 2584]"
      ]
     },
     "execution_count": 24,
     "metadata": {},
     "output_type": "execute_result"
    }
   ],
   "source": [
    "import math\n",
    "\n",
    "fibonacci = lambda x : \"Incorrect input\" if x <=0 else (0 if x == 1 else(1 if x==2 else fibonacci(x-1) +fibonacci(x-2) ))\n",
    "number = input(\"Enter the numern \")\n",
    "list(map(fibonacci, range(0, int(number), 1)))\n"
   ]
  },
  {
   "cell_type": "code",
   "execution_count": 26,
   "metadata": {},
   "outputs": [
    {
     "data": {
      "text/plain": [
       "True"
      ]
     },
     "execution_count": 26,
     "metadata": {},
     "output_type": "execute_result"
    }
   ],
   "source": [
    "checkIsPerfectSquare = lambda x : True if math.sqrt(x).is_integer() else False\n",
    "checkFibonacci = lambda x : checkIsPerfectSquare(5*x*x + 4) or checkIsPerfectSquare(5*x*x - 4)\n",
    "checkFibonacci(2584)"
   ]
  },
  {
   "cell_type": "code",
   "execution_count": null,
   "metadata": {},
   "outputs": [],
   "source": []
  },
  {
   "cell_type": "code",
   "execution_count": null,
   "metadata": {},
   "outputs": [],
   "source": [
    "4. Using reduce functions: PTS:100\n",
    "add only even numbers in a list\n",
    "find the biggest character in a string (printable ascii characters)\n",
    "adds every 3rd number in a list"
   ]
  },
  {
   "cell_type": "code",
   "execution_count": 28,
   "metadata": {},
   "outputs": [
    {
     "data": {
      "text/plain": [
       "5545451340"
      ]
     },
     "execution_count": 28,
     "metadata": {},
     "output_type": "execute_result"
    }
   ],
   "source": [
    "from functools import reduce\n",
    "\n",
    "data = [2,3,5,6,11,13,17,19,23,29]\n",
    "mul = lambda x,y : x * y\n",
    "reduce(mul, data)"
   ]
  },
  {
   "cell_type": "code",
   "execution_count": 60,
   "metadata": {},
   "outputs": [
    {
     "data": {
      "text/plain": [
       "0"
      ]
     },
     "execution_count": 60,
     "metadata": {},
     "output_type": "execute_result"
    }
   ],
   "source": [
    "my_list = [i for i in range(0,10)]\n",
    "lamda_func_even_num = lambda x,y : x+y if (x % 2 == 0 and y % 2 == 0) else 0\n",
    "reduce(lamda_func_even_num,my_list)"
   ]
  },
  {
   "cell_type": "code",
   "execution_count": 61,
   "metadata": {},
   "outputs": [
    {
     "data": {
      "text/plain": [
       "[0, 1, 2, 3, 4, 5, 6, 7, 8, 9]"
      ]
     },
     "execution_count": 61,
     "metadata": {},
     "output_type": "execute_result"
    }
   ],
   "source": [
    "my_list"
   ]
  },
  {
   "cell_type": "code",
   "execution_count": null,
   "metadata": {},
   "outputs": [],
   "source": []
  },
  {
   "cell_type": "code",
   "execution_count": 63,
   "metadata": {},
   "outputs": [
    {
     "data": {
      "text/plain": [
       "0"
      ]
     },
     "execution_count": 63,
     "metadata": {},
     "output_type": "execute_result"
    }
   ],
   "source": [
    "4%2"
   ]
  },
  {
   "cell_type": "code",
   "execution_count": null,
   "metadata": {},
   "outputs": [],
   "source": []
  }
 ],
 "metadata": {
  "deepnote_execution_queue": [],
  "deepnote_notebook_id": "bd8789d7-3629-4616-902e-57699d1dcad5",
  "kernelspec": {
   "display_name": "3d_models",
   "language": "python",
   "name": "3d_models"
  },
  "language_info": {
   "codemirror_mode": {
    "name": "ipython",
    "version": 3
   },
   "file_extension": ".py",
   "mimetype": "text/x-python",
   "name": "python",
   "nbconvert_exporter": "python",
   "pygments_lexer": "ipython3",
   "version": "3.8.5"
  }
 },
 "nbformat": 4,
 "nbformat_minor": 2
}
